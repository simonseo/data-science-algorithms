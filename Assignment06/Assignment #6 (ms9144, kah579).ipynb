{
 "cells": [
  {
   "cell_type": "markdown",
   "metadata": {},
   "source": [
    "## 1.a Flajolet-Martin algorithm"
   ]
  },
  {
   "cell_type": "code",
   "execution_count": 1,
   "metadata": {
    "collapsed": true
   },
   "outputs": [],
   "source": [
    "import string\n",
    "def wordStream(filename):\n",
    "    with open(filename, \"r\") as infile:\n",
    "        for line in infile:\n",
    "            for w in line.strip().lower().split():\n",
    "                z = 0\n",
    "                for c in w.strip(string.punctuation):\n",
    "                    z = (z<<8) | ord(c)\n",
    "                yield z"
   ]
  },
  {
   "cell_type": "code",
   "execution_count": 2,
   "metadata": {
    "collapsed": true
   },
   "outputs": [],
   "source": [
    "def countDistinct(stream):\n",
    "    M = {}\n",
    "    for x in stream:\n",
    "        M[x] = 1\n",
    "    return len(M.keys())"
   ]
  },
  {
   "cell_type": "code",
   "execution_count": 3,
   "metadata": {
    "collapsed": true
   },
   "outputs": [],
   "source": [
    "import random\n",
    "def FM_estimates(stream, r):\n",
    "    # r is the number of estimates needed\n",
    "    def trailing(s):\n",
    "        return len(s) - len(s.rstrip('0'))\n",
    "\n",
    "    p = 9576890767\n",
    "    a = [random.randint(1,p) for i in range(r)]\n",
    "    b = [random.randint(0,p) for i in range(r)]\n",
    "    z = [0 for i in range(r)]\n",
    "    for x in stream:\n",
    "        for i in range(r):\n",
    "            y = (a[i] * (x%p) + b[i]) %p\n",
    "            # update z[i] if y has more than z[i] trailing 0's\n",
    "            t = trailing(bin(y))\n",
    "            if t > z[i]:\n",
    "                z[i] = t\n",
    "    return z"
   ]
  },
  {
   "cell_type": "code",
   "execution_count": 4,
   "metadata": {
    "collapsed": false
   },
   "outputs": [],
   "source": [
    "l = 100\n",
    "z = FM_estimates(wordStream(\"big.txt\"), l)\n"
   ]
  },
  {
   "cell_type": "code",
   "execution_count": 5,
   "metadata": {
    "collapsed": false
   },
   "outputs": [
    {
     "name": "stdout",
     "output_type": "stream",
     "text": [
      "mean 107642.88  median 32768.0  harmonic mean 26886.5641025641\n"
     ]
    }
   ],
   "source": [
    "from statistics import median\n",
    "l = 100\n",
    "mean = sum([2**zi for zi in z]) / l\n",
    "median = median([2**zi for zi in z])\n",
    "harmonic_mean = l/(sum([2**(-zi) for zi in z]))\n",
    "\n",
    "\n",
    "print(\"mean {}  median {}  harmonic mean {}\".format(mean, median, harmonic_mean))\n",
    "\n",
    "# Which one is best?"
   ]
  },
  {
   "cell_type": "markdown",
   "metadata": {},
   "source": [
    "## 1.b Stochastic Averaging"
   ]
  },
  {
   "cell_type": "code",
   "execution_count": 6,
   "metadata": {
    "collapsed": true
   },
   "outputs": [],
   "source": [
    "import string\n",
    "def getWords(line):\n",
    "   words = line.strip().lower().split()\n",
    "   return list( map(lambda w: w.strip(string.punctuation), words) )\n",
    "\n",
    "#k-shingle based on letters\n",
    "def kShingle(k, line):\n",
    "    words = getWords(line)\n",
    "    line = ''.join(words)\n",
    "    result = [''.join([line[i+j] for j in range(k)]) for i in range(len(line)-k+1)]\n",
    "    return result"
   ]
  },
  {
   "cell_type": "code",
   "execution_count": 7,
   "metadata": {
    "collapsed": false
   },
   "outputs": [
    {
     "name": "stdout",
     "output_type": "stream",
     "text": [
      "['theprojec', 'heproject', 'eprojectg', 'projectgu', 'rojectgut', 'ojectgute', 'jectguten', 'ectgutenb', 'ctgutenbe', 'tgutenber', 'gutenberg', 'utenberge', 'tenbergeb', 'enbergebo', 'nbergeboo', 'bergebook', 'ergebooko', 'rgebookof', 'gebookoft', 'ebookofth', 'bookofthe', 'ookofthea', 'okofthead', 'koftheadv', 'oftheadve', 'ftheadven', 'theadvent', 'headventu', 'eadventur', 'adventure', 'dventures', 'ventureso', 'enturesof', 'nturesofs', 'turesofsh', 'uresofshe', 'resofsher', 'esofsherl', 'sofsherlo', 'ofsherloc', 'fsherlock', 'sherlockh', 'herlockho', 'erlockhol', 'rlockholm', 'lockholme', 'ockholmes']\n"
     ]
    }
   ],
   "source": [
    "import codecs\n",
    "with codecs.open(\"big.txt\", \"r\", \"utf-8\") as infile:\n",
    "    lst = list(map(lambda line: kShingle(9, line), infile.read().splitlines()))\n",
    "\n",
    "print(lst[0])"
   ]
  },
  {
   "cell_type": "code",
   "execution_count": 8,
   "metadata": {
    "collapsed": false
   },
   "outputs": [],
   "source": [
    "import random\n",
    "def h(x):\n",
    "    p = 9576890767\n",
    "    a = random.randint(1,p)\n",
    "    b = random.randint(0,p)\n",
    "    y = ((a * (x % p)  + b) % p)\n",
    "    return y"
   ]
  },
  {
   "cell_type": "code",
   "execution_count": 9,
   "metadata": {
    "collapsed": false,
    "scrolled": true
   },
   "outputs": [
    {
     "name": "stdout",
     "output_type": "stream",
     "text": [
      "['0b11110100101100101100010100', '0b110101011011001101011100', '0b100100001001110100111010100', '0b10110111010001100111100001', '0b1010110111011001101011001', '0b110111011110001111101110110', '0b101110010100101100101101010', '0b10111110000111001111101100', '0b10110111101110111101100101', '0b100000011000001111110100010']\n",
      "[121401, 121690, 121079, 121338, 121105, 120789, 120669, 81435, 60682, 60534, 60504, 60500, 60643, 60616, 60401, 60701, 60552, 60606, 60779, 60422, 61064, 60632, 60823, 60729, 60842, 60917, 60525, 60365, 60259, 60344, 60322, 60861, 60589, 60554, 60960, 60697, 60251, 60945, 60601, 60458, 60837, 60894, 60157, 61141, 60733, 60672, 60896, 60395, 60316, 60528, 60625, 60267, 60504, 60676, 60467, 60927, 60602, 60697, 60223, 60307, 60587, 60574, 60422, 60703]\n"
     ]
    }
   ],
   "source": [
    "groups = [[] for i in range(64)]\n",
    "\n",
    "for line in lst:\n",
    "    for shingle in line:\n",
    "        z = 0\n",
    "        for c in shingle:\n",
    "            z = (z<<8) | ord(c)\n",
    "        y = h(z)\n",
    "\n",
    "        groupId = (y & (((1 << 6) - 1) << 27)) >> 27 # y & 111,111,000...000\n",
    "        fmHash = y & ((1 << 27) - 1) # y & 000,000,111...111\n",
    "        \n",
    "        groups[groupId].append(fmHash)\n",
    "    \n",
    "print([bin(fmHash) for fmHash in groups[0][:10]])\n",
    "print([len(group) for group in groups])\n"
   ]
  },
  {
   "cell_type": "code",
   "execution_count": 10,
   "metadata": {
    "collapsed": false
   },
   "outputs": [
    {
     "name": "stdout",
     "output_type": "stream",
     "text": [
      "HyperLogLog  harmonic mean 107642.88\n"
     ]
    }
   ],
   "source": [
    "def trailing(s):\n",
    "    return len(s) - len(s.rstrip('0'))\n",
    "\n",
    "maxts = []\n",
    "for group in groups:\n",
    "    maxt = 0\n",
    "    for fmHash in group:\n",
    "        t = trailing(bin(fmHash))\n",
    "        if t > maxt:\n",
    "            maxt = t\n",
    "    maxts.append(maxt)\n",
    "\n",
    "K = len(maxts)\n",
    "harmonic_mean = K**2/(sum([2**(-zi) for zi in maxts]))\n",
    "\n",
    "print(\"HyperLogLog  harmonic mean {}\".format(mean, median, harmonic_mean))"
   ]
  },
  {
   "cell_type": "markdown",
   "metadata": {},
   "source": [
    "## 2.a Misra-Gries"
   ]
  },
  {
   "cell_type": "code",
   "execution_count": 11,
   "metadata": {
    "collapsed": true
   },
   "outputs": [],
   "source": [
    "def numStream(filename):\n",
    "    with open(filename, \"r\") as infile:\n",
    "        for line in infile:\n",
    "            for n in line.strip().split():\n",
    "                yield int(n)"
   ]
  },
  {
   "cell_type": "code",
   "execution_count": 12,
   "metadata": {
    "collapsed": true
   },
   "outputs": [],
   "source": [
    "class MisraGries():\n",
    "    def __init__(self, k):\n",
    "        self.counters = {}\n",
    "        self.k = k\n",
    "        self.m = 0\n",
    "        \n",
    "    def __call__(self, el):\n",
    "        self.m += 1\n",
    "        if el in self.counters.keys():\n",
    "            self.counters[el] += 1\n",
    "        elif len(self.counters.keys()) < self.k - 1:\n",
    "            self.counters[el] = 1\n",
    "        else:\n",
    "            self.counters = {key : (val - 1) for key, val in self.counters.items() if val > 1}\n",
    "    \n",
    "    def getHigherThan(self, threshold):\n",
    "        return [(key,val) for key, val in self.counters.items() if val >= threshold * self.m]"
   ]
  },
  {
   "cell_type": "code",
   "execution_count": 13,
   "metadata": {
    "collapsed": false
   },
   "outputs": [
    {
     "name": "stdout",
     "output_type": "stream",
     "text": [
      "The total number of page views: 231634\n",
      "The pages that were viewed by more than 10% of users are: [(1, 4742), (3, 12205), (6, 16458), (7, 1428), (11, 9508), (218, 1420)]\n"
     ]
    }
   ],
   "source": [
    "import math\n",
    "\n",
    "e = 0.06 / 10\n",
    "k = 1/(2*e)\n",
    "mg = MisraGries(math.ceil(2*k - 1))\n",
    "\n",
    "for el in numStream(\"kosarak.dat\"):\n",
    "    mg(el)\n",
    "\n",
    "print(\"The total number of page views:\", mg.m)\n",
    "print(\"The pages that were viewed by more than 10% of users are:\", mg.getHigherThan(e))"
   ]
  },
  {
   "cell_type": "markdown",
   "metadata": {},
   "source": [
    "## 2.b Count Min Sketch"
   ]
  },
  {
   "cell_type": "code",
   "execution_count": 20,
   "metadata": {
    "collapsed": false
   },
   "outputs": [],
   "source": [
    "import random\n",
    "class CountMinSketch():\n",
    "    def __init__(self, numHash, numBucket, threshold):\n",
    "        self.numHash = numHash\n",
    "        self.numBucket = numBucket\n",
    "        self.threshold = threshold # epsilon or 1/k\n",
    "        self.p = 9576890767\n",
    "        self.a = [random.randint(1,self.p) for i in range(numHash)]\n",
    "        self.b = [random.randint(0,self.p) for i in range(numHash)]\n",
    "        self.m = 0 # number of stream elements\n",
    "\n",
    "        self.buckets = [[0 for j in range(numBucket)] for i in range(numHash)]\n",
    "        self.minList = [] # list of (x, minCount) pairs sorted by minCount\n",
    "\n",
    "\n",
    "    def h(self, x):\n",
    "        # returns list of hashed values for given x\n",
    "        return [((self.a[i] * (x%self.p) + self.b[i]) % self.p) % self.numBucket for i in range(self.numHash)]\n",
    "        \n",
    "\n",
    "    def __call__(self, x, debugm):\n",
    "        # executed for every element in stream\n",
    "        self.m += 1 \n",
    "        if self.m < debugm: print(\"======================\", self.m, \"======================\")\n",
    "        h_list = self.h(x) # list of hashed values\n",
    "\n",
    "        \n",
    "        # find minCount\n",
    "        minCount = 9999999999\n",
    "        if self.m < debugm: print(\"buckets:\", end=\" \")\n",
    "        for i, hashVal in enumerate(h_list):\n",
    "            count = self.buckets[i][hashVal]\n",
    "            if self.m < debugm: print(count, end=\" \")\n",
    "            if count <= minCount:\n",
    "                minCount = count\n",
    "        if self.m < debugm: print()\n",
    "   \n",
    "            \n",
    "        # update buckets that have minCount\n",
    "        for i, hashVal in enumerate(h_list):\n",
    "            if self.buckets[i][hashVal] <= minCount:\n",
    "                self.buckets[i][hashVal] += 1\n",
    "        minCount += 1\n",
    "        if self.m < debugm: print(\"element\", x, \"minCount\", minCount) \n",
    "            \n",
    "\n",
    "        # remove old (x, minCount) from minList\n",
    "        keyList = [k for (k,v) in self.minList]\n",
    "        if x in keyList:\n",
    "            if self.m < debugm: print(x, \"is being removed from minList\")\n",
    "            i = keyList.index(x)\n",
    "            self.minList.pop(i)\n",
    "            \n",
    "        # Insert new (x, minCount)\n",
    "        if minCount > self.m * self.threshold:\n",
    "            if not self.minList: # if minList is empty\n",
    "                self.minList.append((x, minCount))\n",
    "                if self.m < debugm: print((x, minCount), \"is being added to minList at 0\")\n",
    "            else: # if minList is not empty, find the right place and insert\n",
    "                inserted = False\n",
    "                for i, (k, v) in enumerate(self.minList):\n",
    "                    if v > minCount:\n",
    "                        self.minList.insert(i, (x, minCount))\n",
    "                        inserted = True\n",
    "                        if self.m < debugm: print((x, minCount), \"is being added to minList at\",i)\n",
    "                        break\n",
    "                if not inserted:\n",
    "                    self.minList.append((x, minCount))\n",
    "                    if self.m < debugm: print((x, minCount), \"is being added to minList at the end\")\n",
    "        \n",
    "        # update minlist\n",
    "        for i, (k, v) in enumerate(self.minList):\n",
    "            if v > self.m * self.threshold:\n",
    "                if self.m < debugm: print(\"minList is being cut at\", i, \"m*threshold =\", self.m*self.threshold)\n",
    "                self.minList = self.minList[i:]\n",
    "                break\n",
    "        \n",
    "        # debug print\n",
    "        if self.m < debugm:\n",
    "            print(\"buckets:\", end=\" \")\n",
    "            for i, hashVal in enumerate(h_list):\n",
    "                count = self.buckets[i][hashVal]\n",
    "                print(count, end=\" \")\n",
    "        if self.m < debugm: print()\n",
    "        if self.m < debugm: print(self.result())\n",
    "\n",
    "        \n",
    "    def result(self):\n",
    "        return self.minList\n",
    "\n",
    "\n",
    "            "
   ]
  },
  {
   "cell_type": "code",
   "execution_count": 21,
   "metadata": {
    "collapsed": false,
    "scrolled": true
   },
   "outputs": [
    {
     "name": "stdout",
     "output_type": "stream",
     "text": [
      "The total number of page views: 231634\n",
      "The pages that were viewed by more than 10% of users are: [(218, 2510), (7, 2519), (1, 5833), (11, 10599), (3, 13296), (6, 17549)]\n"
     ]
    }
   ],
   "source": [
    "numHash = 6 # 2**(-l) \n",
    "numBucket = 400\n",
    "threshold = 0.01 # total pv / total u < 10. {pgs s.t. pv > 0.1 * total u > 0.1 * total pv / 10}\n",
    "\n",
    "cms = CountMinSketch(numHash, numBucket, threshold)\n",
    "debugm = 0\n",
    "\n",
    "for el in numStream(\"kosarak.dat\"):\n",
    "    cms(el, debugm)\n",
    "\n",
    "print(\"The total number of page views:\", cms.m)\n",
    "print(\"The pages that were viewed by more than 10% of users are:\", cms.result())"
   ]
  }
 ],
 "metadata": {
  "kernelspec": {
   "display_name": "Python 3",
   "language": "python",
   "name": "python3"
  },
  "language_info": {
   "codemirror_mode": {
    "name": "ipython",
    "version": 3
   },
   "file_extension": ".py",
   "mimetype": "text/x-python",
   "name": "python",
   "nbconvert_exporter": "python",
   "pygments_lexer": "ipython3",
   "version": "3.6.0"
  }
 },
 "nbformat": 4,
 "nbformat_minor": 2
}
