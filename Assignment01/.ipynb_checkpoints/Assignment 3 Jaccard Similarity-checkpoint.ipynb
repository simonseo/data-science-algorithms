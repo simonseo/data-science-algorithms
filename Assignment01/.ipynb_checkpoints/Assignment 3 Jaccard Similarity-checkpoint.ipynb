{
 "cells": [
  {
   "cell_type": "code",
   "execution_count": 1,
   "metadata": {
    "collapsed": true
   },
   "outputs": [],
   "source": [
    "import numpy as np\n",
    "%matplotlib inline \n",
    "import matplotlib.pyplot as plt\n",
    "import random\n",
    "import codecs"
   ]
  },
  {
   "cell_type": "code",
   "execution_count": null,
   "metadata": {
    "collapsed": true
   },
   "outputs": [],
   "source": [
    "#chop.py\n",
    "import codecs\n",
    "\n",
    "OUTPUT_LINES = 100\n",
    "\n",
    "with codecs.open(\"data_v1.txt\", \"r\", \"utf-8\") as infile:\n",
    "    with codecs.open(\"data_out_{}.txt\".format(OUTPUT_LINES), \"w\", \"utf-8\") as outfile:\n",
    "        for i, line in enumerate(infile):\n",
    "            if i > OUTPUT_LINES:\n",
    "                break\n",
    "            outfile.write(line)"
   ]
  },
  {
   "cell_type": "code",
   "execution_count": null,
   "metadata": {
    "collapsed": true
   },
   "outputs": [],
   "source": [
    "# randomsample.py\n",
    "# Random sampling\n",
    "import codecs\n",
    "import random\n",
    "\n",
    "TOTAL_LINES = 10**6 + 2\n",
    "OUTPUT_LINES = 1000\n",
    "p = OUTPUT_LINES/TOTAL_LINES\n",
    "\n",
    "print(\"getting random sample of size {}\".format(OUTPUT_LINES))\n",
    "with codecs.open(\"data_v1.txt\", \"r\", \"utf-8\") as infile:\n",
    "\twith codecs.open(\"data_random_{}.txt\".format(OUTPUT_LINES), \"w\", \"utf-8\") as outfile:\n",
    "\t\toutput_count = 0\n",
    "\t\tfor i, line in enumerate(infile):\n",
    "\t\t\tif output_count < OUTPUT_LINES and random.random() < p:\n",
    "\t\t\t\toutfile.write(line)\n",
    "\t\t\t\toutput_count += 1\n",
    "\t\t\tif output_count >= OUTPUT_LINES:\n",
    "\t\t\t\tbreak\n",
    "print(\"done\")"
   ]
  },
  {
   "cell_type": "code",
   "execution_count": null,
   "metadata": {
    "collapsed": true
   },
   "outputs": [],
   "source": [
    "# findbr.py\n",
    "# Finds (b,r) parameters required for documents of \n",
    "# given JS similarity s to be in candidate groups with probability p\n",
    "\n",
    "p = 0.98\n",
    "q = 1 - p\n",
    "s = 0.75\n",
    "rrange = range(2, 20)\n",
    "brange = range(0, 250, 5)\n",
    "\n",
    "res = []\n",
    "\n",
    "for b in brange:\n",
    "\tb = 10**(-b/100)\n",
    "\tfor r in rrange:\n",
    "\t\tif (1 - s**r < q**b):\n",
    "\t\t\tres.append((int(1/b),r))\n",
    "l = len(res)\n",
    "print(l)\n",
    "if l < 250:\n",
    "\tprint(res)"
   ]
  },
  {
   "cell_type": "code",
   "execution_count": null,
   "metadata": {
    "collapsed": true
   },
   "outputs": [],
   "source": [
    "# findthreshold.py\n",
    "# for given (b,r) parameters, finds at which point s in [0,1] the slope is maximum.\n",
    "# also finds probability of document pairs that have JS=S is in candidate pairs\n",
    "\n",
    "srange = range(0,1000)\n",
    "br = [(32,4), (16,8), (32,8)]\n",
    "max_slope_threshold = (0, -1) # (s, f'(s))\n",
    "fx = lambda s,b,r: 1-(1-s**r)**b\n",
    "S = 0.75\n",
    "\n",
    "for (b,r) in br:\n",
    "\tfor s in srange:\n",
    "\t\ts = s/1000\n",
    "\t\tfpx = r*b*(1-s**r)**(b-1)*s**(r-1)\n",
    "\t\tif fpx > max_slope_threshold[1]:\n",
    "\t\t\t# print(max_slope_threshold)\n",
    "\t\t\tmax_slope_threshold = (s, fpx)\n",
    "\tprint(\"b {} r {} threshold {} p({}) {}\".format(b, r, max_slope_threshold[0], S, fx(S, b, r)))\n",
    "\n"
   ]
  },
  {
   "cell_type": "code",
   "execution_count": 15,
   "metadata": {
    "collapsed": false
   },
   "outputs": [],
   "source": [
    "#find k-shingles (of words)\n",
    "import string\n",
    "\n",
    "def getWords(line):\n",
    "   words = line.strip().lower().split()\n",
    "   return list( map(lambda w: w.strip(string.punctuation), words) )\n",
    "\n",
    "def kShingleWord(k, line, removeFirstWord=True):\n",
    "    words = getWords(line)\n",
    "    if removeFirstWord:\n",
    "        print(words.pop(0))\n",
    "    return [[words[i+j] for j in range(k)] for i in range(len(words)-k)]\n",
    "    \n",
    "def kShingle(k, line, removeFirstWord=True):\n",
    "    words = getWords(line)\n",
    "    if removeFirstWord:\n",
    "        print(words.pop(0))\n",
    "    line = ''.join(words)\n",
    "    return [[line[i+j] for j in range(k)] for i in range(len(line)-k)]\n",
    "    \n",
    "\n",
    "# st = \"6060 SECOND LORD. That approaches apace. I would gladly have him see his PAROLLES. What the dèvil should move me to undertake the recovery cheek of two pile and a half, but his right cheek is worn bare. COUNTESS. To be young again, if we could, I will be a fool in LAFEU. He was excellent indeed, madam; the King very lately spoke Boys. He was my father; and he is thrice a villain that says such father. He that so generally is at all times good must of Half won is match well made; match, and well make it; PAROLLES. It is to be recovered. But that the merit of service is HELENA. 'Till I have no wife, I have nothing in France.' Here is a pur of Fortune's, sir, or of Fortune's cat, but not CLOWN. You must not think I am so simple but I know the devil not seem to understand him, unless some one among us, whom we FIRST LORD. I am heartily sorry that he'll be glad of this. His part o' th' isle. Then does he say he lent me a solemn leave. His lordship will next morning for France. The them whipt; or I would send them to th' Turk to make eunuchs of. PAROLLES. 'Five or six thousand horse' I said-I will say true- 'or But take the High'st to witness. Then, pray you, tell me: But do not speak to me. Lead me to my chamber. Exeunt \"\n",
    "# print(kShingleWord(5, st)[:20])\n",
    "# print(kShingle(5, st)[:50])"
   ]
  },
  {
   "cell_type": "code",
   "execution_count": null,
   "metadata": {
    "collapsed": true
   },
   "outputs": [],
   "source": []
  },
  {
   "cell_type": "code",
   "execution_count": null,
   "metadata": {
    "collapsed": true
   },
   "outputs": [],
   "source": [
    "#plot histogram of JS\n",
    "\n",
    "plt.subplot()\n",
    "plt.hist(jaccard_similarities,'auto')\n",
    "plt.show()"
   ]
  }
 ],
 "metadata": {
  "kernelspec": {
   "display_name": "Python 3",
   "language": "python",
   "name": "python3"
  },
  "language_info": {
   "codemirror_mode": {
    "name": "ipython",
    "version": 3
   },
   "file_extension": ".py",
   "mimetype": "text/x-python",
   "name": "python",
   "nbconvert_exporter": "python",
   "pygments_lexer": "ipython3",
   "version": "3.6.0"
  }
 },
 "nbformat": 4,
 "nbformat_minor": 2
}
