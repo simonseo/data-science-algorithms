{
 "cells": [
  {
   "cell_type": "markdown",
   "metadata": {},
   "source": [
    "# Assignment 4 - Cosine Distance and Movie Tastes\n",
    "\n",
    "Khaled Alhosani (kah579) Myunggun Seo (ms9144)\n",
    "\n",
    "---"
   ]
  },
  {
   "cell_type": "markdown",
   "metadata": {},
   "source": [
    "## LogCounter.py\n",
    "timer and counter in logarithmic unit"
   ]
  },
  {
   "cell_type": "code",
   "execution_count": 1,
   "metadata": {
    "collapsed": true
   },
   "outputs": [],
   "source": [
    "import math\n",
    "from datetime import datetime\n",
    "import traceback\n",
    "\n",
    "class LogCounter():\n",
    "\t\"\"\"counts in exponential unit\"\"\"\n",
    "\tdef __init__(self, base=10):\n",
    "\t\tif base == 10:\n",
    "\t\t\tself.log = math.log10\n",
    "\t\telif base == 2:\n",
    "\t\t\tself.log = math.log2\n",
    "\t\telif base == 'e':\n",
    "\t\t\tself.log = math.log\n",
    "\t\telse:\n",
    "\t\t\tself.log = lambda x: math.log(x, base)\n",
    "\t\tself.count = 0\n",
    "\t\tself.logcount = 0\n",
    "\t\tself.startingTime = datetime.now()\n",
    "\n",
    "\tdef __enter__(self):\n",
    "\t\tprint(\"Started at {}\".format(self.startingTime))\n",
    "\t\treturn self\n",
    "\n",
    "\tdef __exit__(self, exc_type, exc_value, exc_traceback):\n",
    "\t\tif exc_value == None:\n",
    "\t\t\tprint(\"Loop Successful. Count: {}\".format(self.count))\n",
    "\t\telse:\n",
    "\t\t\tprint(\"Loop failed.\")\n",
    "\t\t\ttraceback.print_exception(exc_type, exc_value, exc_traceback)\n",
    "\t\tprint(\"Ended at {} Total Time {}\".format(datetime.now(), datetime.now() - self.startingTime))\n",
    "\t\treturn True\n",
    "\n",
    "\tdef increment(self, msg=\"\"):\n",
    "\t\tself.count += 1\n",
    "\t\tif self.log(self.count) >= self.logcount:\n",
    "\t\t\tself.logcount += 1\n",
    "\t\t\tprint(\"Time elapsed: {2}  Count: {0}  {1}\".format(self.count, msg, datetime.now() - self.startingTime))\n",
    "\n",
    "\n"
   ]
  },
  {
   "cell_type": "markdown",
   "metadata": {},
   "source": [
    "## functions.py\n",
    "helper functions"
   ]
  },
  {
   "cell_type": "code",
   "execution_count": 2,
   "metadata": {
    "collapsed": true
   },
   "outputs": [],
   "source": [
    "import string\n",
    "import math\n",
    "import itertools\n",
    "from functools import reduce\n",
    "\n",
    "def getWords(line, delimiter=','):\n",
    "\twords = line.strip().lower().split(delimiter)\n",
    "\treturn list( map(lambda w: w.strip(string.punctuation), words) )\n",
    "\n",
    "def createUserDict(filename=\"ratings.csv\"):\n",
    "\t'''creates dict of K-V shape (uid, (mid, r)) and sorted list of all MIDs'''\n",
    "\tuserDict = {}\n",
    "\tmidSet = set([])\n",
    "\n",
    "\twith open(filename, \"r\") as infile:\n",
    "\t\tlst = list(map(getWords, infile.read().splitlines()))\n",
    "\t\tlst = list(map(lambda t: (int(t[0]), (int(t[1]), float(t[2]))), lst)) #(uid, (mid, r))\n",
    "\n",
    "\tfor rating in lst:\n",
    "\t\t(uid, (mid, r)) = rating\n",
    "\t\tmidSet.add(mid)\n",
    "\t\tuser = userDict.get(uid, {})\n",
    "\t\tuser[mid] = r\n",
    "\t\tuserDict[uid] = user\n",
    "\treturn userDict, sorted(midSet)\n",
    "\n",
    "\n",
    "def cosd(u, v):\n",
    "\t'''cosine distance function\n",
    "\tu, v = user entries from userDict\n",
    "\tm = length of user/random vector'''\n",
    "\tmidSet = set(u.keys()) & set(v.keys())\n",
    "\tdotproduct = 0\n",
    "\tfor mid in midSet:\n",
    "\t\tdotproduct += u.get(mid, None) * v.get(mid, None)\n",
    "\tsquare = lambda x: x**2\n",
    "\tadd = lambda x, y: x + y\n",
    "\tmag = reduce(add, map(square, u.values())) * reduce(add, map(square, v.values())) #|u|*|v|\n",
    "\tmag **= 1/2\n",
    "\tassert mag != 0\n",
    "\treturn math.acos(dotproduct/mag)\n",
    "\n",
    "def choose(lst, r):\n",
    "    #returns all \"choose r\" combinations as a set\n",
    "    return set(map(lambda x: tuple(sorted(x)), itertools.combinations(lst, r)))"
   ]
  },
  {
   "cell_type": "markdown",
   "metadata": {},
   "source": [
    "## preAnalysis.py\n",
    "plots histograms, calculates r,b values"
   ]
  },
  {
   "cell_type": "code",
   "execution_count": 3,
   "metadata": {
    "collapsed": true
   },
   "outputs": [],
   "source": [
    "# preAnalysis.py\n",
    "\n",
    "import matplotlib.pyplot as plt\n",
    "%matplotlib inline\n",
    "import math\n",
    "from random import gauss\n",
    "# from functions import cosd, createUserDict\n",
    "\n",
    "def cosDistanceHistogram(userDict):\n",
    "\t'''computes cosine distance for given sample of users and draws histogram'''\n",
    "\tijcosds = []\n",
    "\tfor i, u in userDict.items():\n",
    "\t\tfor j, v in userDict.items():\n",
    "\t\t\tif i < j:\n",
    "\t\t\t\tijcosds.append(((i,j), cosd(u,v)))\n",
    "\n",
    "\tplt.subplot()\n",
    "\tplt.hist(list(map(lambda x:x[1], ijcosds)), 'auto')\n",
    "\tplt.show()\n",
    "\n",
    "\treturn ijcosds\n",
    "\n",
    "def rbCandidates(p=.98, s=.43, rrange=range(2, 20), brange=range(1, 20)):\n",
    "\t# Finds (b,r) parameters required for documents of \n",
    "\t# JS similarity s to be in candidate groups with probability p\n",
    "\tq = 1 - p\n",
    "\tres = []\n",
    "\n",
    "\tfor b in brange:\n",
    "\t\tfor r in rrange:\n",
    "\t\t\tif (1 - s**r < q**(1/b)):\n",
    "\t\t\t\tres.append((r,b))\n",
    "\tl = len(res)\n",
    "\tprint(l, \"candidates for r,b values\")\n",
    "\tif l < 250:\n",
    "\t\tprint(res)\n",
    "\treturn res\n",
    "\n",
    "def rbAnalysis(rb=[(4,32), (8,16), (8,32), (4,8), (4,4), (2,8), (8,12), (12,8), (2,4)], S=.43):\n",
    "\t# for given (b,r) parameters, finds at which point s in [0,1] the slope is maximum.\n",
    "\t# also finds probability of document pairs that have JS=S is in candidate pairs\n",
    "\t# ordered r first, b second\n",
    "\t\n",
    "\tfx = lambda s,r,b: 1-(1-s**r)**b #the probability function\n",
    "\ttx = lambda r,b: (1/b)**(1/r) #approximation of threshold\n",
    "\n",
    "\tfor (r,b) in rb:\n",
    "\t\tmax_slope_threshold = (0, -1) # (s, f'(s))\n",
    "\t\tfalsePositiveRate = 0\n",
    "\t\tfalseNegativeRate = 0\n",
    "\n",
    "\t\tintervals = 1000\n",
    "\t\tintervalSize = 1/intervals\n",
    "\t\tfor s in range(0,intervals):\n",
    "\t\t\ts = s/intervals\n",
    "\t\t\tfpx = r*b*(1-s**r)**(b-1)*s**(r-1)\n",
    "\t\t\tif fpx > max_slope_threshold[1]:\n",
    "\t\t\t\tmax_slope_threshold = (s, fpx)\n",
    "\t\t\tif s < S:\n",
    "\t\t\t\tfalsePositiveRate += intervalSize * fx(s,r,b) / S\n",
    "\t\t\telse:\n",
    "\t\t\t\tfalseNegativeRate += intervalSize * (1-fx(s,r,b)) / (1-S)\n",
    "\n",
    "\t\tprint(\"r={} b={}  \\t|  threshold={} \\t p({:.4f})={:.4f} \\t false-pos={:.4f} \\t false-neg={:.4f}\"\\\n",
    "\t\t\t.format(r, b, max_slope_threshold[0], S, fx(S, r, b), falsePositiveRate, falseNegativeRate))\n",
    "\n",
    "def createRandomVectors(k, m, filename=\"randomVectors.csv\"):\n",
    "\t'''creates k random vectors in m dimensions'''\n",
    "\twith open(filename, \"w\") as outfile:\n",
    "\t\tfor i in range(k):\n",
    "\t\t\tfor j in range(m):\n",
    "\t\t\t\toutfile.write(\"{:.8f} \".format(gauss(0,1)))\n",
    "\t\t\toutfile.write('\\n')\n",
    "\n",
    "def dot(userVector, vec, mids):\n",
    "\t'''userVector is a sparse vector (dictionary) of (mid,r) entries\n",
    "\tvec is a dense vector that has all m components(list of floats)'''\n",
    "\tproduct = 0\n",
    "\tfor mid, r in userVector.items():\n",
    "\t\ttry:\n",
    "\t\t\ti = mids.index(mid)\n",
    "\t\texcept ValueError as e:\n",
    "\t\t\tprint(\"mids length {} mid {}\".format(len(mids), mid))\n",
    "\t\t\traise e\n",
    "\t\tproduct += r * vec[i]\n",
    "\treturn product"
   ]
  },
  {
   "cell_type": "code",
   "execution_count": 4,
   "metadata": {
    "collapsed": false,
    "scrolled": true
   },
   "outputs": [
    {
     "data": {
      "image/png": "[encoded data removed]",
      "text/plain": [
       "<matplotlib.figure.Figure at 0x10ca7c748>"
      ]
     },
     "metadata": {},
     "output_type": "display_data"
    },
    {
     "name": "stdout",
     "output_type": "stream",
     "text": [
      "51 candidates for r,b values\n",
      "[(1, 4), (1, 5), (1, 6), (2, 6), (1, 7), (2, 7), (1, 8), (2, 8), (1, 9), (2, 9), (3, 9), (1, 10), (2, 10), (3, 10), (1, 11), (2, 11), (3, 11), (1, 12), (2, 12), (3, 12), (1, 13), (2, 13), (3, 13), (4, 13), (1, 14), (2, 14), (3, 14), (4, 14), (1, 15), (2, 15), (3, 15), (4, 15), (1, 16), (2, 16), (3, 16), (4, 16), (1, 17), (2, 17), (3, 17), (4, 17), (5, 17), (1, 18), (2, 18), (3, 18), (4, 18), (5, 18), (1, 19), (2, 19), (3, 19), (4, 19), (5, 19)]\n",
      "r=1 b=4  \t|  threshold=0.0 \t p(0.7500)=0.9961 \t false-pos=0.7329 \t false-neg=0.0008\n",
      "r=1 b=5  \t|  threshold=0.0 \t p(0.7500)=0.9990 \t false-pos=0.7772 \t false-neg=0.0002\n",
      "r=1 b=6  \t|  threshold=0.0 \t p(0.7500)=0.9998 \t false-pos=0.8089 \t false-neg=0.0000\n",
      "r=2 b=6  \t|  threshold=0.302 \t p(0.7500)=0.9930 \t false-pos=0.5451 \t false-neg=0.0011\n",
      "r=1 b=7  \t|  threshold=0.0 \t p(0.7500)=0.9999 \t false-pos=0.8327 \t false-neg=0.0000\n",
      "r=2 b=7  \t|  threshold=0.277 \t p(0.7500)=0.9969 \t false-pos=0.5751 \t false-neg=0.0004\n",
      "r=1 b=8  \t|  threshold=0.0 \t p(0.7500)=1.0000 \t false-pos=0.8512 \t false-neg=0.0000\n",
      "r=2 b=8  \t|  threshold=0.258 \t p(0.7500)=0.9987 \t false-pos=0.6000 \t false-neg=0.0002\n",
      "r=1 b=9  \t|  threshold=0.0 \t p(0.7500)=1.0000 \t false-pos=0.8660 \t false-neg=0.0000\n",
      "r=2 b=9  \t|  threshold=0.243 \t p(0.7500)=0.9994 \t false-pos=0.6210 \t false-neg=0.0001\n",
      "r=3 b=9  \t|  threshold=0.425 \t p(0.7500)=0.9928 \t false-pos=0.4408 \t false-neg=0.0009\n",
      "r=1 b=10  \t|  threshold=0.0 \t p(0.7500)=1.0000 \t false-pos=0.8781 \t false-neg=0.0000\n",
      "r=2 b=10  \t|  threshold=0.229 \t p(0.7500)=0.9997 \t false-pos=0.6390 \t false-neg=0.0000\n",
      "r=3 b=10  \t|  threshold=0.41 \t p(0.7500)=0.9958 \t false-pos=0.4587 \t false-neg=0.0005\n",
      "r=1 b=11  \t|  threshold=0.0 \t p(0.7500)=1.0000 \t false-pos=0.8882 \t false-neg=0.0000\n",
      "r=2 b=11  \t|  threshold=0.218 \t p(0.7500)=0.9999 \t false-pos=0.6547 \t false-neg=0.0000\n",
      "r=3 b=11  \t|  threshold=0.397 \t p(0.7500)=0.9976 \t false-pos=0.4745 \t false-neg=0.0003\n",
      "r=1 b=12  \t|  threshold=0.0 \t p(0.7500)=1.0000 \t false-pos=0.8968 \t false-neg=0.0000\n",
      "r=2 b=12  \t|  threshold=0.209 \t p(0.7500)=1.0000 \t false-pos=0.6684 \t false-neg=0.0000\n",
      "r=3 b=12  \t|  threshold=0.385 \t p(0.7500)=0.9986 \t false-pos=0.4886 \t false-neg=0.0001\n",
      "r=1 b=13  \t|  threshold=0.0 \t p(0.7500)=1.0000 \t false-pos=0.9041 \t false-neg=0.0000\n",
      "r=2 b=13  \t|  threshold=0.2 \t p(0.7500)=1.0000 \t false-pos=0.6807 \t false-neg=0.0000\n",
      "r=3 b=13  \t|  threshold=0.375 \t p(0.7500)=0.9992 \t false-pos=0.5014 \t false-neg=0.0001\n",
      "r=4 b=13  \t|  threshold=0.492 \t p(0.7500)=0.9929 \t false-pos=0.3706 \t false-neg=0.0008\n",
      "r=1 b=14  \t|  threshold=0.0 \t p(0.7500)=1.0000 \t false-pos=0.9104 \t false-neg=0.0000\n",
      "r=2 b=14  \t|  threshold=0.192 \t p(0.7500)=1.0000 \t false-pos=0.6917 \t false-neg=0.0000\n",
      "r=3 b=14  \t|  threshold=0.365 \t p(0.7500)=0.9995 \t false-pos=0.5130 \t false-neg=0.0000\n",
      "r=4 b=14  \t|  threshold=0.483 \t p(0.7500)=0.9951 \t false-pos=0.3815 \t false-neg=0.0005\n",
      "r=1 b=15  \t|  threshold=0.0 \t p(0.7500)=1.0000 \t false-pos=0.9160 \t false-neg=0.0000\n",
      "r=2 b=15  \t|  threshold=0.186 \t p(0.7500)=1.0000 \t false-pos=0.7016 \t false-neg=0.0000\n",
      "r=3 b=15  \t|  threshold=0.357 \t p(0.7500)=0.9997 \t false-pos=0.5235 \t false-neg=0.0000\n",
      "r=4 b=15  \t|  threshold=0.475 \t p(0.7500)=0.9967 \t false-pos=0.3916 \t false-neg=0.0003\n",
      "r=1 b=16  \t|  threshold=0.0 \t p(0.7500)=1.0000 \t false-pos=0.9209 \t false-neg=0.0000\n",
      "r=2 b=16  \t|  threshold=0.18 \t p(0.7500)=1.0000 \t false-pos=0.7106 \t false-neg=0.0000\n",
      "r=3 b=16  \t|  threshold=0.349 \t p(0.7500)=0.9998 \t false-pos=0.5332 \t false-neg=0.0000\n",
      "r=4 b=16  \t|  threshold=0.467 \t p(0.7500)=0.9977 \t false-pos=0.4009 \t false-neg=0.0002\n",
      "r=1 b=17  \t|  threshold=0.0 \t p(0.7500)=1.0000 \t false-pos=0.9253 \t false-neg=0.0000\n",
      "r=2 b=17  \t|  threshold=0.174 \t p(0.7500)=1.0000 \t false-pos=0.7189 \t false-neg=0.0000\n",
      "r=3 b=17  \t|  threshold=0.342 \t p(0.7500)=0.9999 \t false-pos=0.5422 \t false-neg=0.0000\n",
      "r=4 b=17  \t|  threshold=0.46 \t p(0.7500)=0.9984 \t false-pos=0.4096 \t false-neg=0.0001\n",
      "r=5 b=17  \t|  threshold=0.544 \t p(0.7500)=0.9900 \t false-pos=0.3098 \t false-neg=0.0010\n",
      "r=1 b=18  \t|  threshold=0.0 \t p(0.7500)=1.0000 \t false-pos=0.9292 \t false-neg=0.0000\n",
      "r=2 b=18  \t|  threshold=0.169 \t p(0.7500)=1.0000 \t false-pos=0.7265 \t false-neg=0.0000\n",
      "r=3 b=18  \t|  threshold=0.335 \t p(0.7500)=0.9999 \t false-pos=0.5505 \t false-neg=0.0000\n",
      "r=4 b=18  \t|  threshold=0.453 \t p(0.7500)=0.9989 \t false-pos=0.4176 \t false-neg=0.0001\n",
      "r=5 b=18  \t|  threshold=0.538 \t p(0.7500)=0.9924 \t false-pos=0.3173 \t false-neg=0.0007\n",
      "r=1 b=19  \t|  threshold=0.0 \t p(0.7500)=1.0000 \t false-pos=0.9327 \t false-neg=0.0000\n",
      "r=2 b=19  \t|  threshold=0.164 \t p(0.7500)=1.0000 \t false-pos=0.7335 \t false-neg=0.0000\n",
      "r=3 b=19  \t|  threshold=0.329 \t p(0.7500)=1.0000 \t false-pos=0.5582 \t false-neg=0.0000\n",
      "r=4 b=19  \t|  threshold=0.447 \t p(0.7500)=0.9993 \t false-pos=0.4252 \t false-neg=0.0001\n",
      "r=5 b=19  \t|  threshold=0.532 \t p(0.7500)=0.9942 \t false-pos=0.3244 \t false-neg=0.0005\n"
     ]
    }
   ],
   "source": [
    "userDict, midSet = createUserDict()\n",
    "ijcosds = cosDistanceHistogram(userDict)\n",
    "\n",
    "# s = 1-1.15/math.pi #p(placed in same bucket if cosd=1.15)\n",
    "s = 0.75 # cosd = pi/4\n",
    "rb = rbCandidates(p=.99, s=s, rrange=range(1, 10), brange=range(1, 20))\n",
    "rbAnalysis(rb=rb, S=s)\n",
    "\n",
    "# userDict, midSet = createUserDict()\n",
    "# createRandomVectors(44, len(midSet))"
   ]
  },
  {
   "cell_type": "code",
   "execution_count": null,
   "metadata": {
    "collapsed": true
   },
   "outputs": [],
   "source": []
  },
  {
   "cell_type": "markdown",
   "metadata": {},
   "source": [
    "## main.py\n",
    "Use random vectors to hash users into buckets and find candidate pairs using banding technique.\n",
    "Plot result"
   ]
  },
  {
   "cell_type": "code",
   "execution_count": 5,
   "metadata": {
    "collapsed": false
   },
   "outputs": [
    {
     "name": "stdout",
     "output_type": "stream",
     "text": [
      "Started at 2018-02-25 21:02:53.809112\n",
      "Computing dot products of randomVector #0 and userVectors\n",
      "Time elapsed: 0:00:00.000342  Count: 1  \n",
      "Time elapsed: 0:00:00.151169  Count: 16  \n",
      "Time elapsed: 0:00:01.739255  Count: 256  \n",
      "Computing dot products of randomVector #1 and userVectors\n",
      "Computing dot products of randomVector #2 and userVectors\n",
      "Computing dot products of randomVector #3 and userVectors\n",
      "Computing dot products of randomVector #4 and userVectors\n",
      "Computing dot products of randomVector #5 and userVectors\n",
      "Computing dot products of randomVector #6 and userVectors\n",
      "Time elapsed: 0:00:30.243793  Count: 4096  \n",
      "Computing dot products of randomVector #7 and userVectors\n",
      "Computing dot products of randomVector #8 and userVectors\n",
      "Computing dot products of randomVector #9 and userVectors\n",
      "Computing dot products of randomVector #10 and userVectors\n",
      "Computing dot products of randomVector #11 and userVectors\n",
      "Computing dot products of randomVector #12 and userVectors\n",
      "Computing dot products of randomVector #13 and userVectors\n",
      "Computing dot products of randomVector #14 and userVectors\n",
      "Computing dot products of randomVector #15 and userVectors\n",
      "Computing dot products of randomVector #16 and userVectors\n",
      "Computing dot products of randomVector #17 and userVectors\n",
      "Computing dot products of randomVector #18 and userVectors\n",
      "Computing dot products of randomVector #19 and userVectors\n",
      "Computing dot products of randomVector #20 and userVectors\n",
      "Computing dot products of randomVector #21 and userVectors\n",
      "Computing dot products of randomVector #22 and userVectors\n",
      "Computing dot products of randomVector #23 and userVectors\n",
      "Computing dot products of randomVector #24 and userVectors\n",
      "Computing dot products of randomVector #25 and userVectors\n",
      "Computing dot products of randomVector #26 and userVectors\n",
      "Loop Successful. Count: 18117\n",
      "Ended at 2018-02-25 21:05:02.483147 Total Time 0:02:08.674041\n"
     ]
    }
   ],
   "source": [
    "import math\n",
    "from functools import reduce\n",
    "import matplotlib.pyplot as plt\n",
    "\n",
    "\n",
    "# open randomVectors and userDict\n",
    "userDict, mids = createUserDict(\"ratings.csv\")\n",
    "with open(\"randomVectors.csv\", \"r\") as infile:\n",
    "\tgetNums = lambda line: list(map(float, line.strip().split()))\n",
    "\trandomVectors = list(map(getNums, infile.read().splitlines()))\n",
    "\n",
    "# for each randomVector, userVectors were divided into two buckets. \n",
    "# union of set of pairs from two buckets are put into a row\n",
    "# 'bands' has b number of bands and each band has r number of rows\n",
    "r=3\n",
    "b=9\n",
    "bands = [[[] for j in range(r)] for i in range(b)]\n",
    "\n",
    "with LogCounter(base=16) as lc:\n",
    "\tfor i, vec in enumerate(randomVectors):\n",
    "\t\tif i >= r*b:\n",
    "\t\t\tbreak\n",
    "\t\tprint(\"Computing dot products of randomVector #{} and userVectors\".format(i))\n",
    "\t\tbuckets = {'positive':[], 'negative':[]}\n",
    "\t\tfor uid, user in userDict.items():\n",
    "\t\t\tlc.increment() #count number of userVectors * randomVectors\n",
    "\t\t\tsign = ('positive', 'negative')[dot(user, vec, mids) < 0] #gets sign of dot product\n",
    "\t\t\tbuckets.get(sign).append(uid)\n",
    "\t\tfor bucket in buckets.values():\n",
    "\t\t\tassert i//r < b, \"band index i//r wrong\"\n",
    "\t\t\tassert i%r < r, \"row index i\\%r wrong\"\n",
    "\t\t\tbands[i//r][i%r] += list(choose(bucket, 2)) #put pairs into rows. (a,b) and (b,a) are treated the same\n"
   ]
  },
  {
   "cell_type": "code",
   "execution_count": 6,
   "metadata": {
    "collapsed": false,
    "scrolled": true
   },
   "outputs": [
    {
     "name": "stdout",
     "output_type": "stream",
     "text": [
      "Started at 2018-02-25 21:05:02.500341\n",
      "length of candidate weekends 172104 0.7656382765753943\n",
      "Loop Successful. Count: 0\n",
      "Ended at 2018-02-25 21:05:03.287173 Total Time 0:00:00.786838\n",
      "Started at 2018-02-25 21:05:03.287584\n",
      "Time elapsed: 0:00:00.000415  Count: 1  \n",
      "Time elapsed: 0:00:00.003527  Count: 16  \n",
      "Time elapsed: 0:00:00.044240  Count: 256  \n",
      "Time elapsed: 0:00:00.558378  Count: 4096  \n",
      "Time elapsed: 0:00:08.715641  Count: 65536  \n",
      "Loop Successful. Count: 172104\n",
      "Ended at 2018-02-25 21:05:26.303003 Total Time 0:00:23.015426\n"
     ]
    }
   ],
   "source": [
    "# Find candidate pairs\n",
    "with LogCounter() as lc: #used for timing\n",
    "\t#map each row to a set, reduce rows in each band using &, reduce bands using |\n",
    "\tAND = lambda s, t: s & t\n",
    "\tOR = lambda s, t: s | t\n",
    "\tcandidatePairs = reduce(OR, map(lambda band: reduce(AND, map(set, band)), bands))\n",
    "\tprint(\"length of candidate weekends\", len(candidatePairs), len(candidatePairs)/(671*670/2))\n",
    "\n",
    "\n",
    "s = 0.75\n",
    "# Calculate distances of candidate pairs\n",
    "candidateijCosds = []\n",
    "candidateCosds = []\n",
    "resultijCosds = []\n",
    "resultCosds = []\n",
    "keys = userDict.keys()\n",
    "with LogCounter(base=16) as lc:\n",
    "\tfor (i, j) in candidatePairs:\n",
    "\t\tlc.increment()\n",
    "\t\tassert i in keys\n",
    "\t\tassert j in keys\n",
    "\t\td = cosd(userDict.get(i), userDict.get(j))\n",
    "\t\tcandidateijCosds.append(((i,j),d))\n",
    "\t\tcandidateCosds.append(d)\n",
    "\t\tif d < (1-s)*math.pi:\n",
    "\t\t\tresultijCosds.append(((i,j),d))\n",
    "\t\t\tresultCosds.append(d)\n",
    "\n"
   ]
  },
  {
   "cell_type": "code",
   "execution_count": 7,
   "metadata": {
    "collapsed": false
   },
   "outputs": [
    {
     "data": {
      "image/png": "[encoded data removed]",
      "text/plain": [
       "<matplotlib.figure.Figure at 0x115564ef0>"
      ]
     },
     "metadata": {},
     "output_type": "display_data"
    }
   ],
   "source": [
    "# Plot the cosine distances of \n",
    "# 1. all pairs\n",
    "# 2. candidate pairs\n",
    "# 3. the actual desirable pairs\n",
    "\n",
    "plt.subplot()\n",
    "plt.ylim(ymax=50)\n",
    "binlist=[i/200 for i in range(312)]\n",
    "plt.hist(list(map(lambda x:x[1],ijcosds)), bins=binlist)\n",
    "plt.hist(candidateCosds, bins=binlist)\n",
    "plt.hist(resultCosds, bins=binlist)\n",
    "plt.show()\n"
   ]
  },
  {
   "cell_type": "code",
   "execution_count": 8,
   "metadata": {
    "collapsed": false
   },
   "outputs": [
    {
     "name": "stdout",
     "output_type": "stream",
     "text": [
      "candidates:172104 finalists:23 totalcontenders:224785\n",
      "there shold actually be 23 finalists\n",
      "[((151, 369), 0.5636682799127491), ((279, 369), 0.6573413928802412), ((151, 400), 0.6581154741641095), ((82, 400), 0.6673917530945387), ((191, 513), 0.6797439897708369), ((151, 279), 0.6823767129373195), ((279, 400), 0.6973137018325868), ((50, 151), 0.7012126478857547), ((191, 449), 0.7087303243648356), ((369, 400), 0.7104094136954243), ((144, 375), 0.722752249754703), ((329, 459), 0.7278105382827054), ((108, 225), 0.7305217981190001), ((82, 191), 0.7354936163536018), ((144, 151), 0.736513061438354), ((317, 415), 0.7401664078548377), ((317, 556), 0.7404709799960699), ((145, 151), 0.7571474436827337), ((64, 657), 0.7572715451717987), ((279, 662), 0.7635117919364386), ((144, 400), 0.7706074822717078), ((145, 400), 0.7752634532851712), ((151, 535), 0.7768431229421576)]\n"
     ]
    }
   ],
   "source": [
    "print(\"candidates:{} finalists:{} totalcontenders:{}\".format(len(candidateCosds), len(resultCosds), len(ijcosds)))\n",
    "for i, val in enumerate(sorted(ijcosds, key=lambda x:x[1])):\n",
    "    if val[1] > (1-s)*math.pi:\n",
    "        print(\"there shold actually be {} finalists\".format(i))\n",
    "        break\n",
    "\n",
    "print(sorted(ijcosds, key=lambda x:x[1])[:i])"
   ]
  }
 ],
 "metadata": {
  "kernelspec": {
   "display_name": "Python 3",
   "language": "python",
   "name": "python3"
  },
  "language_info": {
   "codemirror_mode": {
    "name": "ipython",
    "version": 3
   },
   "file_extension": ".py",
   "mimetype": "text/x-python",
   "name": "python",
   "nbconvert_exporter": "python",
   "pygments_lexer": "ipython3",
   "version": "3.6.0"
  }
 },
 "nbformat": 4,
 "nbformat_minor": 2
}
