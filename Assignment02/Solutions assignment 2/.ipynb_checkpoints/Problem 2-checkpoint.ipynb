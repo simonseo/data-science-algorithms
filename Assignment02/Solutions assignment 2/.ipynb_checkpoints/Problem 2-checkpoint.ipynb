{
 "cells": [
  {
   "cell_type": "code",
   "execution_count": null,
   "metadata": {
    "collapsed": true
   },
   "outputs": [],
   "source": [
    "# Get or Create Spark Context\n",
    "sc = SparkContext.getOrCreate()\n",
    "\n",
    "# Top 100 bigrams by frequency\n",
    "\n",
    "import string\n",
    "\n",
    "def add(x,y): return x+y\n",
    "\n",
    "def getWords(line):\n",
    "   words = line.strip().lower().split()\n",
    "   return list( map(lambda w: w.strip(string.punctuation), words) )\n",
    "\n",
    "def getBigrams(line):\n",
    "    words = getWords(line)\n",
    "    return [((words[i], words[i+1]),1) for i in range(len(words)-1)]\n",
    "\n",
    "top = sc.textFile(\"100-0.txt\").flatMap(getBigrams).reduceByKey(add).map(lambda p: (p[1],p[0])).top(100)\n",
    "print(\"Top 100 bigrams by frequency are:\\n\")\n",
    "for p in top: print(p[1],\"occurs\",p[0],\"times.\")"
   ]
  }
 ],
 "metadata": {
  "kernelspec": {
   "display_name": "Python 3",
   "language": "python",
   "name": "python3"
  },
  "language_info": {
   "codemirror_mode": {
    "name": "ipython",
    "version": 3
   },
   "file_extension": ".py",
   "mimetype": "text/x-python",
   "name": "python",
   "nbconvert_exporter": "python",
   "pygments_lexer": "ipython3",
   "version": "3.6.0"
  }
 },
 "nbformat": 4,
 "nbformat_minor": 2
}
