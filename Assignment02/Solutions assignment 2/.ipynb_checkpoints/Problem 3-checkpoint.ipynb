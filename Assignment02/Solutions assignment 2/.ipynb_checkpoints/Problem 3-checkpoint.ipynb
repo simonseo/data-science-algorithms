{
 "cells": [
  {
   "cell_type": "code",
   "execution_count": null,
   "metadata": {
    "collapsed": true
   },
   "outputs": [],
   "source": [
    "# Get or Create Spark Context\n",
    "sc = SparkContext.getOrCreate()"
   ]
  },
  {
   "cell_type": "code",
   "execution_count": null,
   "metadata": {
    "collapsed": true
   },
   "outputs": [],
   "source": [
    "# Create RDDs from each of the CSV files\n",
    "def split(s):\n",
    "    if('\"' not in s):\n",
    "        return s.split(',')\n",
    "    return [x.strip(',') for x in s.split('\"')]\n",
    "\n",
    "path = \"ml-latest-small/\"\n",
    "movies = sc.textFile(path + \"movies.csv\").map(split)    #  [movieId,title,genres]\n",
    "ratings = sc.textFile(path + \"ratings.csv\").map(split)  #  [userId,movieId,rating,timestamp]"
   ]
  },
  {
   "cell_type": "code",
   "execution_count": null,
   "metadata": {
    "collapsed": true
   },
   "outputs": [],
   "source": [
    "# Average number of users a movie is rated by\n",
    "def add(x,y): return x+y\n",
    "avg = ratings.map(lambda l: (l[1], 1)).reduceByKey(add).map(lambda x: x[1]).mean()\n",
    "print(\"The average number of users rating a movie is:\",avg)"
   ]
  },
  {
   "cell_type": "code",
   "execution_count": null,
   "metadata": {
    "collapsed": true
   },
   "outputs": [],
   "source": [
    "# Average rating of movies in each genre\n",
    "\n",
    "def addPair(p,q): return (p[0]+q[0], p[1]+q[1])\n",
    "\n",
    "# compute total rating and number of ratings for each movie\n",
    "totalByMovie = ratings.map(lambda l: (l[1], (float(l[2]),1.0))).reduceByKey(addPair) # (movieId, (totalRating, numRatings))\n",
    "movieGenre = movies.map(lambda l: (l[0], l[2])) # (movieId, genres)\n",
    "join1 = totalByMovie.join(movieGenre) # (movieId, ((totalRating, numRatings), genres))\n",
    "totalByGenre = join1.flatMap(lambda t: [(g, t[1][0]) for g in t[1][1].split('|')]).reduceByKey(addPair)\n",
    "avgList = totalByGenre.map(lambda t: (t[0], t[1][0]/t[1][1])).collect()\n",
    "print(\"The average ratings of movies in each genre is as follows:\\n\")\n",
    "for p in avgList: print(p[0],':', p[1])"
   ]
  },
  {
   "cell_type": "code",
   "execution_count": null,
   "metadata": {
    "collapsed": true
   },
   "outputs": [],
   "source": [
    "# Top 3 movies in each genre\n",
    "genres = [x[0] for x in avgList]\n",
    "avgByMovie = totalByMovie.map(lambda t: (t[0], t[1][0]/t[1][1]))\n",
    "movieTitleGenre = movies.map(lambda t: (t[0], (t[1], t[2])))\n",
    "join2 = avgByMovie.join(movieTitleGenre) # (movieId, (avgRating, (title, genres))\n",
    "genreRatingTitle = join2.flatMap(lambda t: [(g, (t[1][0], t[1][1][0])) for g in t[1][1][1].split('|')])\n",
    "\n",
    "for g in genres:\n",
    "    top = genreRatingTitle.filter(lambda t: t[0] == g).map(lambda t: t[1]).top(3)\n",
    "    print(\"Top 3 movies in genre '\"+g+\"' are:\")\n",
    "    for p in top: print(\"\\t\",p[1], \"(avg. rating:\", p[0],\")\")\n",
    "    print(\"\\n\")"
   ]
  },
  {
   "cell_type": "code",
   "execution_count": null,
   "metadata": {
    "collapsed": true
   },
   "outputs": [],
   "source": [
    "# Top 10 movie watchers ranked by the number of movies they have rated\n",
    "top = ratings.map(lambda l: (l[0], 1)).reduceByKey(add).map(lambda p: (p[1], p[0])).top(10)\n",
    "for x in top: print(\"User\",x[1], \"rated\",x[0],\"movies.\")"
   ]
  },
  {
   "cell_type": "code",
   "execution_count": null,
   "metadata": {
    "collapsed": true
   },
   "outputs": [],
   "source": [
    "# top ten pairs of users ranked by the number of movies both have watched (or rated)\n",
    "def getPairs(t):\n",
    "    l = t[1]\n",
    "    m = []\n",
    "    for a in l:\n",
    "        for b in l:\n",
    "            if(a<b): m.append(((a,b),1))\n",
    "    return m\n",
    "\n",
    "top = ratings.map(lambda l: (l[1],[l[0]])).reduceByKey(add).flatMap(getPairs).reduceByKey(add).map(lambda p: (p[1],p[0])).top(10)\n",
    "print(\"The top ten pairs of users ranked by no. of common movies rated  are: \\n\")\n",
    "for p in top: print(p[1],\":\",p[0],\" common movies.\")"
   ]
  }
 ],
 "metadata": {
  "kernelspec": {
   "display_name": "Python 3",
   "language": "python",
   "name": "python3"
  },
  "language_info": {
   "codemirror_mode": {
    "name": "ipython",
    "version": 3
   },
   "file_extension": ".py",
   "mimetype": "text/x-python",
   "name": "python",
   "nbconvert_exporter": "python",
   "pygments_lexer": "ipython3",
   "version": "3.6.0"
  }
 },
 "nbformat": 4,
 "nbformat_minor": 2
}
