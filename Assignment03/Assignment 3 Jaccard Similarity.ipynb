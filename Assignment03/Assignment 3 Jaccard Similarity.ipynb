{
 "cells": [
  {
   "cell_type": "code",
   "execution_count": 1,
   "metadata": {
    "collapsed": true
   },
   "outputs": [],
   "source": [
    "%load_ext Cython\n",
    "import numpy as np\n",
    "%matplotlib inline \n",
    "import matplotlib.pyplot as plt\n",
    "import random\n",
    "import codecs\n",
    "from datetime import datetime\n",
    "from hashlib import sha512\n",
    "import itertools\n",
    "import math"
   ]
  },
  {
   "cell_type": "code",
   "execution_count": null,
   "metadata": {
    "collapsed": true
   },
   "outputs": [],
   "source": [
    "#chop.py: simply chops the first however many lines\n",
    "import codecs\n",
    "\n",
    "OUTPUT_LINES = 1000\n",
    "\n",
    "with codecs.open(\"data_v1.txt\", \"r\", \"utf-8\") as infile:\n",
    "    with codecs.open(\"data_out_{}.txt\".format(OUTPUT_LINES), \"w\", \"utf-8\") as outfile:\n",
    "        for i, line in enumerate(infile):\n",
    "            if i > OUTPUT_LINES:\n",
    "                break\n",
    "            outfile.write(line)"
   ]
  },
  {
   "cell_type": "code",
   "execution_count": null,
   "metadata": {
    "collapsed": false
   },
   "outputs": [],
   "source": [
    "# randomsample.py\n",
    "# Randomly samples however many lines needed \n",
    "import codecs\n",
    "import random\n",
    "\n",
    "TOTAL_LINES = 10**6 + 2\n",
    "OUTPUT_LINES = 100000\n",
    "p = OUTPUT_LINES/TOTAL_LINES\n",
    "\n",
    "print(\"getting random sample of size {}\".format(OUTPUT_LINES))\n",
    "with codecs.open(\"data_v1.txt\", \"r\", \"utf-8\") as infile:\n",
    "\twith codecs.open(\"data_random_{}.txt\".format(OUTPUT_LINES), \"w\", \"utf-8\") as outfile:\n",
    "\t\toutput_count = 0\n",
    "\t\tfor i, line in enumerate(infile):\n",
    "\t\t\tif output_count < OUTPUT_LINES and random.random() < p:\n",
    "\t\t\t\toutfile.write(line)\n",
    "\t\t\t\toutput_count += 1\n",
    "\t\t\tif output_count >= OUTPUT_LINES:\n",
    "\t\t\t\tbreak\n",
    "print(\"done\")"
   ]
  },
  {
   "cell_type": "code",
   "execution_count": 5,
   "metadata": {
    "collapsed": false
   },
   "outputs": [
    {
     "name": "stdout",
     "output_type": "stream",
     "text": [
      "86\n",
      "[(1, 0), (1, 0), (1, 0), (1, 0), (1, 0), (1, 0), (1, 0), (2, 0), (2, 0), (2, 0), (3, 0), (3, 0), (3, 0), (4, 0), (5, 0), (5, 0), (6, 0), (7, 0), (7, 0), (8, 0), (10, 0), (11, 0), (12, 0), (12, 1), (14, 0), (14, 1), (15, 0), (15, 1), (17, 0), (17, 1), (19, 0), (19, 1), (22, 0), (22, 1), (25, 0), (25, 1), (28, 0), (28, 1), (31, 0), (31, 1), (35, 0), (35, 1), (39, 0), (39, 1), (44, 0), (44, 1), (50, 0), (50, 1), (56, 0), (56, 1), (63, 0), (63, 1), (70, 0), (70, 1), (79, 0), (79, 1), (89, 0), (89, 1), (100, 0), (100, 1), (112, 0), (112, 1), (125, 0), (125, 1), (125, 2), (141, 0), (141, 1), (141, 2), (158, 0), (158, 1), (158, 2), (177, 0), (177, 1), (177, 2), (199, 0), (199, 1), (199, 2), (223, 0), (223, 1), (223, 2), (251, 0), (251, 1), (251, 2), (281, 0), (281, 1), (281, 2)]\n"
     ]
    }
   ],
   "source": [
    "# findbr.py\n",
    "# Finds (b,r) parameters required for documents of \n",
    "# JS similarity s to be in candidate groups with probability p\n",
    "\n",
    "p = 0.98\n",
    "q = 1 - p\n",
    "s = 0.75\n",
    "rrange = range(2, 20)\n",
    "brange = range(0, 250, 5)\n",
    "\n",
    "res = []\n",
    "\n",
    "for b in brange:\n",
    "    b = 10**(-b/100)\n",
    "    for r in rrange:\n",
    "        if (1 - s**r < q**b):\n",
    "            res.append((int(1/b),r))\n",
    "l = len(res)\n",
    "print(l)\n",
    "if l < 250:\n",
    "    print(res)"
   ]
  },
  {
   "cell_type": "code",
   "execution_count": null,
   "metadata": {
    "collapsed": false
   },
   "outputs": [],
   "source": [
    "# findthreshold.py\n",
    "# for given (b,r) parameters, finds at which point s in [0,1] the slope is maximum.\n",
    "# also finds probability of document pairs that have JS=S is in candidate pairs\n",
    "\n",
    "srange = range(0,1000)\n",
    "# ordered b first, r second\n",
    "br = [(32,4), (16,8), (32,8), (8,4), (4,4), (8,2)]\n",
    "\n",
    "fx = lambda s,b,r: 1-(1-s**r)**b\n",
    "tx = lambda b,r: (1/b)**(1/r)\n",
    "S = 0.75\n",
    "\n",
    "for (b,r) in br:\n",
    "    max_slope_threshold = (0, -1) # (s, f'(s))\n",
    "    for s in srange:\n",
    "        s = s/1000\n",
    "        fpx = r*b*(1-s**r)**(b-1)*s**(r-1)\n",
    "        if fpx > max_slope_threshold[1]:\n",
    "            # print(max_slope_threshold)\n",
    "            max_slope_threshold = (s, fpx)\n",
    "    print(\"b {} r {} threshold {} p({}) {}\".format(b, r, max_slope_threshold[0], S, fx(S, b, r)))\n",
    "\n"
   ]
  },
  {
   "cell_type": "code",
   "execution_count": null,
   "metadata": {
    "collapsed": false
   },
   "outputs": [],
   "source": [
    "# Finding optimal values of r and b for target JS = 0.75\n",
    "# these are ordered r first, b second\n",
    "l = [(4,32),(8,16),(8,32),(4,8),(4,4),(2,8)]\n",
    "\n",
    "fig = plt.figure(num=None, figsize=(12, 8), dpi=80, facecolor='w', edgecolor='k')\n",
    "for i, (r, b) in enumerate(l):\n",
    "    X = np.arange(0, 1, 0.01)\n",
    "    Y = list(map(lambda x: 1-(1-x**r)**b, X))\n",
    "    plt.subplot(2,3,1+i)\n",
    "    plt.plot(X, Y)\n",
    "    plt.title('$f(x) = 1−(1−x^{{{}}})^{{{}}}$'.format(r, b))\n",
    "    plt.xlabel('x')\n",
    "    plt.ylabel('f(x)')\n",
    "    x = 0.75\n",
    "    X = r\n",
    "    Y = b\n",
    "    print(X*Y*((1-x**X)**(Y-1))*(x**(X-1)))\n",
    "plt.tight_layout()\n",
    "plt.show()"
   ]
  },
  {
   "cell_type": "code",
   "execution_count": 2,
   "metadata": {
    "collapsed": false
   },
   "outputs": [
    {
     "name": "stdout",
     "output_type": "stream",
     "text": [
      "k-shingle word ['second lord that approaches apace', 'lord that approaches apace i', 'that approaches apace i would', 'approaches apace i would gladly', 'apace i would gladly have', 'i would gladly have him', 'would gladly have him see', 'gladly have him see his', 'have him see his parolles', 'him see his parolles what']\n",
      "k-shingle letters ['secon', 'econd', 'condl', 'ondlo', 'ndlor', 'dlord', 'lordt', 'ordth', 'rdtha', 'dthat', 'thata', 'hatap', 'atapp', 'tappr', 'appro', 'pproa', 'proac', 'roach', 'oache', 'aches']\n",
      "JS based on k-word-shingles 0.5052325581395349\n",
      "JS based on k-letter-shingles 0.4883720930232558\n",
      "minhashes of a single document ['00262861', '0004bbc1', '00322021', '001ab8cf', '00952c4a', '00515c08', '0053f03a', '00451141', '0015baa9', '000c519f', '001fa1aa', '002b14ff', '00122380', '0061ab54', '00128b05', '00419964']\n",
      "minhashes of a single document ['00262861', '0004bbc1', '00213738', '001ab8cf', '000fc8cf', '000d7127', '0053f03a', '00451141', '000993e8', '000c519f', '001fa1aa', '002b14ff', '000977cd', '0018872f', '0007ed97', '0006ba41']\n",
      "0:00:00.017152\n"
     ]
    }
   ],
   "source": [
    "%%cython\n",
    "\n",
    "import string\n",
    "from datetime import datetime\n",
    "from hashlib import sha512\n",
    "import itertools\n",
    "\n",
    "def getWords(line):\n",
    "   words = line.strip().lower().split()\n",
    "   return list( map(lambda w: w.strip(string.punctuation), words) )\n",
    "\n",
    "#k-shingle based on words\n",
    "def kShingleWord(k, line, removeFirstWord=True):\n",
    "    words = getWords(line)\n",
    "    idx = words.pop(0)\n",
    "    result = [' '.join([words[i+j] for j in range(k)]) for i in range(len(words)-k)]\n",
    "    return result if removeFirstWord else (idx, result)\n",
    "    \n",
    "#k-shingle based on letters\n",
    "def kShingle(k, line, removeFirstWord=True):\n",
    "    words = getWords(line)\n",
    "    idx = words.pop(0)\n",
    "    line = ''.join(words)\n",
    "    result = [''.join([line[i+j] for j in range(k)]) for i in range(len(line)-k)]\n",
    "    # if removeFirstWord, return list of elements like ['0075c1c5', '005cf4fb',..., '00ccde89']\n",
    "    # if not removeFirstWord, return list of elements like ('6066', ['0075c1c5', '005cf4fb',..., '00ccde89'])\n",
    "    return result if removeFirstWord else (idx, result)\n",
    "    \n",
    "    \n",
    "\n",
    "st = \"6060 SECOND LORD. That approaches apace. I would gladly have him see his PAROLLES. What the dèvil should move me to undertake the recovery cheek of two pile and a half, but his right cheek is worn bare. COUNTESS. To be young again, if we could, I will be a fool in LAFEU. He was excellent indeed, madam; the King very lately spoke Boys. He was my father; and he is thrice a villain that says such father. He that so generally is at all times good must of Half won is match well made; match, and well make it; PAROLLES. It is to be recovered. But that the merit of service is HELENA. 'Till I have no wife, I have nothing in France.' Here is a pur of Fortune's, sir, or of Fortune's cat, but not CLOWN. You must not think I am so simple but I know the devil not seem to understand him, unless some one among us, whom we FIRST LORD. I am heartily sorry that he'll be glad of this. His part o' th' isle. Then does he say he lent me a solemn leave. His lordship will next morning for France. The them whipt; or I would send them to th' Turk to make eunuchs of. PAROLLES. 'Five or six thousand horse' I said-I will say true- 'or But take the High'st to witness. Then, pray you, tell me: But do not speak to me. Lead me to my chamber. Exeunt \"\n",
    "print(\"k-shingle word\", kShingleWord(5, st)[:10])\n",
    "print(\"k-shingle letters\", kShingle(5, st)[:20])\n",
    "\n",
    "# Jaccard similarity from two lists/sets of strings\n",
    "# if only given s1, assume s1 holds both of the two lists and unpack it\n",
    "def jaccardSim(s1, s2=None):\n",
    "    if s2 is None:\n",
    "        s1, s2 = s1\n",
    "    s1 = set(s1)\n",
    "    s2 = set(s2)\n",
    "    return len(s1 & s2) / len(s1 | s2)\n",
    "\n",
    "#st1 is documents 6393 and 7378 combined, st2 is 6393\n",
    "# similarity should be around 0.5 for both word-shingle and letter-shingle\n",
    "st1 = \"6393 wear the surplice of humility over the black gown of a big heart. away; know it before the report come. If there be breadth enough BERTRAM. Why, if you have a stomach, to't, monsieur. If you think train'd me like a peasant, obscuring and hiding from me all BERTRAM. I'll lend it thee, my dear, but have no power KING. If it were yours by none of all these ways, See at the end of this file: * CONTENT NOTE (added in 2017) * face; if your lordship be in't, as I believe you are, you must COUNTESS. With very much content, my lord; and I wish it happily CHARMIAN. Nay, if an oily palm be not a fruitful prognostication, I LAFEU. I will buy me a son-in-law in a fair, and toll for this. FIRST SOLDIER. Boskos vauvado. I understand thee, and can speak thy PAROLLES. O my good lord, you were the first that found me. in death, which commits some loving act upon her, she hath such a PAROLLES. By the hand of a soldier, I will undertake it. child at fifty, to whom Herod of Jewry may do homage. Find me to sad a passage 'tis!-whose skill was almost as great as his in death, which commits some loving act upon her, she hath such a CLOWN. Faith, sir, 'a has an English name; but his fisnomy is more itself, which could not be her office to say is come, was 7378 whilst I have a tooth in my head. Why, he's able to lead her a against his valour; and my state that way is dangerous, since I PAROLLES. The Duke knows him for no other but a poor officer of to th' Queen? O that I knew this husband, which you say must ANTONY. That which is now a horse, even with a thought Fare you well, my lord; and believe this of me: there can be no beat thee. I think thou wast created for men to breathe ANTONY. Do so, we'll speak to them; and to-night I'll force much of my father in me as you, albeit I confess your coming dare not give. Wherefore, what's the instance? Tongue, I must put the toothpick, which wear not now. Your date is better in your ANTONY. I would they'd fight i' th' fire or i' th' air; PAROLLES. I know not what the success will be, my lord, but the neighbouring languages, therefore we must every one be a man of KING. Know you this ring? This ring was his of late. when old robes are worn out there are members to make new. If ENOBARBUS. Why, sir, give the gods a thankful sacrifice. When it sadness. My brother Jaques he keeps at school, and report speaks PAROLLES. I beseech your honour to hear me one single word. when he number'd thirty; 'a will be here to-morrow, or I am \"\n",
    "st2 = \"6393 wear the surplice of humility over the black gown of a big heart. away; know it before the report come. If there be breadth enough BERTRAM. Why, if you have a stomach, to't, monsieur. If you think train'd me like a peasant, obscuring and hiding from me all BERTRAM. I'll lend it thee, my dear, but have no power KING. If it were yours by none of all these ways, See at the end of this file: * CONTENT NOTE (added in 2017) * face; if your lordship be in't, as I believe you are, you must COUNTESS. With very much content, my lord; and I wish it happily CHARMIAN. Nay, if an oily palm be not a fruitful prognostication, I LAFEU. I will buy me a son-in-law in a fair, and toll for this. FIRST SOLDIER. Boskos vauvado. I understand thee, and can speak thy PAROLLES. O my good lord, you were the first that found me. in death, which commits some loving act upon her, she hath such a PAROLLES. By the hand of a soldier, I will undertake it. child at fifty, to whom Herod of Jewry may do homage. Find me to sad a passage 'tis!-whose skill was almost as great as his in death, which commits some loving act upon her, she hath such a CLOWN. Faith, sir, 'a has an English name; but his fisnomy is more itself, which could not be her office to say is come, was \"\n",
    "s1 = kShingle(5, st1)\n",
    "s2 = kShingle(5, st2)\n",
    "print(\"JS based on k-word-shingles\", jaccardSim(s1, s2))\n",
    "s1 = kShingleWord(5, st1)\n",
    "s2 = kShingleWord(5, st2)\n",
    "print(\"JS based on k-letter-shingles\", jaccardSim(s1, s2))\n",
    "\n",
    "\n",
    "# shingles should be given as list of strings\n",
    "# this hashes all shingles (8 hash functions) and for each hash function find minimum value hashes.\n",
    "# the hash might not be a number but okay if hash is consistent and there is a clear ordering (alphabetical here)\n",
    "def minhash(shingles):\n",
    "    h = 16 # no. of hashes we want\n",
    "    l = 8 # length of each hash\n",
    "    hashes = ['z'*l] * h # minhashes are initialized to 'zzzzzzzz'\n",
    "    m = sha512()\n",
    "    for shingle in shingles:\n",
    "        m.update(shingle.encode('utf-8'))\n",
    "        newhash = m.hexdigest()\n",
    "        newhashes = [newhash[i:i+l] for i in range(0,l*h,l)] #divide 128 characters into 16 hashes of length 8\n",
    "        hashes = [min(hashes[i], newhashes[i]) for i in range(h)]\n",
    "    return hashes\n",
    "\n",
    "# st2 = \"6393 wear the surplice of humility over the black gown of a big heart. away; know it before the report come. If there be breadth enough BERTRAM. Why, if you have a stomach, to't, monsieur. If you think train'd me like a peasant, obscuring and hiding from me all BERTRAM. I'll lend it thee, my dear, but have no power KING. If it were yours by none of all these ways, See at the end of this file: * CONTENT NOTE (added in 2017) * face; if your lordship be in't, as I believe you are, you must COUNTESS. With very much content, my lord; and I wish it happily CHARMIAN. Nay, if an oily palm be not a fruitful prognostication, I LAFEU. I will buy me a son-in-law in a fair, and toll for this. FIRST SOLDIER. Boskos vauvado. I understand thee, and can speak thy PAROLLES. O my good lord, you were the first that found me. in death, which commits some loving act upon her, she hath such a PAROLLES. By the hand of a soldier, I will undertake it. child at fifty, to whom Herod of Jewry may do homage. Find me to sad a passage 'tis!-whose skill was almost as great as his in death, which commits some loving act upon her, she hath such a CLOWN. Faith, sir, 'a has an English name; but his fisnomy is more itself, which could not be her office to say is come, was \"\n",
    "\n",
    "startingTime = datetime.now()\n",
    "print(\"minhashes of a single document\", minhash(kShingle(5, st2)))\n",
    "print(\"minhashes of a single document\", minhash(kShingle(5, st1)))\n",
    "print(datetime.now()-startingTime)\n",
    "\n",
    "def C(lst, r):\n",
    "    #returns all \"choose r\" combinations as a set\n",
    "    return set(map(lambda x: tuple(sorted(x)), itertools.combinations(lst, r)))\n"
   ]
  },
  {
   "cell_type": "code",
   "execution_count": null,
   "metadata": {
    "collapsed": false
   },
   "outputs": [],
   "source": [
    "#plot histogram of distribution of JS\n",
    "# usually between 0.0 and 0.2 (99.99%)\n",
    "OUTPUT_LINES = 1000\n",
    "k = 5\n",
    "\n",
    "with codecs.open(\"data_random_{}.txt\".format(OUTPUT_LINES), \"r\", \"utf-8\") as infile:\n",
    "    lst = map(lambda line: kShingleWord(k, line), infile.read().splitlines()) # samples\n",
    "\n",
    "startTime = datetime.now()\n",
    "print(startTime)\n",
    "pairs = list(itertools.combinations(lst, 2)) # all document combinations\n",
    "jaccard_similarities = list(map(jaccardSim, pairs))\n",
    "\n",
    "plt.subplot()\n",
    "plt.title(\"Jaccard Similarities for #documents={}\".format(OUTPUT_LINES))\n",
    "plt.hist(jaccard_similarities,'auto')\n",
    "plt.show()\n",
    "print(datetime.now() - startTime)"
   ]
  },
  {
   "cell_type": "code",
   "execution_count": null,
   "metadata": {
    "collapsed": false,
    "scrolled": true
   },
   "outputs": [],
   "source": [
    "# What are the lowest and highest values of JS in the random file?\n",
    "js = sorted(jaccard_similarities)\n",
    "js[0], js[-1]"
   ]
  },
  {
   "cell_type": "code",
   "execution_count": null,
   "metadata": {
    "collapsed": false
   },
   "outputs": [],
   "source": [
    "# SHA-512 api example\n",
    "m = sha512()\n",
    "m.update(\"hello world\".encode('utf-8'))\n",
    "print(m.hexdigest(), len(m.hexdigest()))\n"
   ]
  },
  {
   "cell_type": "code",
   "execution_count": null,
   "metadata": {
    "collapsed": false
   },
   "outputs": [],
   "source": [
    "# How long does it take to find shingles? Less than 10 seconds for 10^6 documents\n",
    "OUTPUT_LINES = 100\n",
    "k = 5\n",
    "\n",
    "startingTime = datetime.now()\n",
    "with codecs.open(\"data_random_{}.txt\".format(OUTPUT_LINES), \"r\", \"utf-8\") as infile:\n",
    "    lst = map(lambda line: kShingle(5, line), infile.read().splitlines()) # samples\n",
    "\n",
    "print(datetime.now()-startingTime)"
   ]
  },
  {
   "cell_type": "code",
   "execution_count": null,
   "metadata": {
    "collapsed": false
   },
   "outputs": [],
   "source": [
    "# Caculate minhashes and save in file\n",
    "# takes about 5.6 ms for running minhash with 16 hashes (all derived from 1 SHA-512 function call) on each document.\n",
    "# expected to take about 1.5 hrs for 10^6 documents\n",
    "\n",
    "k = 5\n",
    "\n",
    "startingTime = datetime.now()\n",
    "print(\"Started at {}\".format(startingTime))\n",
    "\n",
    "with codecs.open(\"data_v1.txt\", \"r\", \"utf-8\") as infile:\n",
    "    lst = map(lambda line: kShingle(k, line, False), infile.read().splitlines()) # samples\n",
    "\n",
    "print(\"Finished shingling data at {}\".format(datetime.now()))\n",
    "\n",
    "with codecs.open(\"minhash_data_v1.txt\", \"w\", \"utf-8\") as outfile:\n",
    "    for (idx, shingles) in lst:\n",
    "        outfile.write(\"{} {}\\n\".format(idx, ' '.join(minhash(shingles))))\n",
    "\n",
    "print(\"Finished minhashing data at {}\".format(datetime.now()-startingTime))\n"
   ]
  },
  {
   "cell_type": "code",
   "execution_count": 3,
   "metadata": {
    "collapsed": false,
    "scrolled": true
   },
   "outputs": [
    {
     "name": "stdout",
     "output_type": "stream",
     "text": [
      "2018-02-18 02:50:32.786674\n",
      "[{}, {}, {}, {}, {}, {}, {}, {}, {}, {}, {}, {}, {}, {}, {}, {}]\n",
      "length of buckets 16\n",
      "0:00:36.517971\n",
      "[('0052f3a0', [1]), ('0070a6be', [2]), ('001f135a', [3]), ('0013811e', [4]), ('000c0342', [5]), ('00700253', [6]), ('0016c791', [7]), ('01312c26', [8]), ('00926889', [9]), ('00051d28', [10]), ('00230c45', [11]), ('01d331f2', [12]), ('00e47b0e', [13]), ('0010c66f', [14]), ('008650f4', [15]), ('000f629a', [16]), ('00703ae1', [17]), ('006351b0', [18]), ('002fe2e1', [19, 146535]), ('003922a8', [20]), ('0031c1fc', [21]), ('0001c729', [22]), ('005c00f7', [23]), ('0022bae1', [24]), ('0036299c', [25]), ('002a5e2f', [26]), ('0006ea45', [27]), ('005a02f6', [28]), ('00317848', [29]), ('001a71ea', [30, 768630, 782122])]\n"
     ]
    }
   ],
   "source": [
    "# Put documents into buckets\n",
    "# create 16 dictionaries, one for each hash.\n",
    "# for each hashed document, put the index of the document into the 16 dictionaries with the hash as the key. like so:\n",
    "\n",
    "# h1dict = {ecba2d : [1]}\n",
    "# h2dict = {dfqfe3 : [1]}\n",
    "# etc.\n",
    "\n",
    "startingTime = datetime.now()\n",
    "print(startingTime)\n",
    "with codecs.open(\"minhash_data_v1.txt\", \"r\") as infile:\n",
    "    lst = map(getWords, infile.read().splitlines())\n",
    "    \n",
    "\n",
    "h = 16 # number of hash functions\n",
    "buckets = [{}, {}, {}, {}, {}, {}, {}, {}, {}, {}, {}, {}, {}, {}, {}, {}]\n",
    "print(buckets)\n",
    "for (j, words) in enumerate(lst):\n",
    "    idx = int(words[0]) #idx of doc\n",
    "    hashes = words[1:] #16 hashes\n",
    "    for (i, hashVal) in enumerate(hashes): # put each hash into their respective buckets\n",
    "#         bucket = buckets[(i+j)%h].get(hashVal, [])\n",
    "        bucket = buckets[i].get(hashVal, [])\n",
    "        bucket.append(idx)\n",
    "        buckets[i][hashVal] = bucket\n",
    "#         if j < 5:\n",
    "#             print('i', i, \" idx\", idx, \" bucket\", bucket, \" buckets[i]\", buckets[i], \" hashVal\", hashVal)\n",
    "print(\"length of buckets\",len(buckets))\n",
    "print(datetime.now() - startingTime)\n",
    "print(list(buckets[1].items())[:30])"
   ]
  },
  {
   "cell_type": "code",
   "execution_count": null,
   "metadata": {
    "collapsed": false
   },
   "outputs": [],
   "source": [
    "# [len(buckets[i]) for i in range(16)]\n",
    "# print(list(buckets[0].values())[:1000])\n",
    "print(list(buckets[1].values())[:1000])\n",
    "print(len(buckets))"
   ]
  },
  {
   "cell_type": "code",
   "execution_count": 8,
   "metadata": {
    "collapsed": false
   },
   "outputs": [
    {
     "name": "stdout",
     "output_type": "stream",
     "text": [
      "2018-02-18 03:19:04.613484\n",
      "0 2\n",
      "Finished row 11741895 0\n",
      "Finished row 12187899 0\n",
      "length of candidate weekends 83832\n",
      "2 4\n",
      "Finished row 13699087 83832\n",
      "Finished row 130388013 83832\n",
      "length of candidate weekends 1071232\n",
      "4 6\n",
      "Finished row 9966891 987408\n",
      "Finished row 10250667 987408\n",
      "length of candidate weekends 1205779\n",
      "6 8\n",
      "Finished row 10292661 134558\n",
      "Finished row 14111571 134558\n",
      "length of candidate weekends 1359942\n",
      "8 10\n",
      "Finished row 9471510 154174\n",
      "Finished row 14132027 154174\n",
      "length of candidate weekends 1562609\n",
      "10 12\n",
      "Finished row 11909920 202677\n",
      "Finished row 42645344 202677\n",
      "length of candidate weekends 1658155\n",
      "12 14\n",
      "Finished row 8714414 95714\n",
      "Finished row 12851207 95714\n",
      "length of candidate weekends 1851122\n",
      "14 16\n",
      "Finished row 12599113 193027\n",
      "Finished row 15227033 193027\n",
      "length of candidate weekends 2172651\n",
      "0:07:56.926840\n"
     ]
    }
   ],
   "source": [
    "# divide into b=8 bands, r=2 rows\n",
    "# for each band, find all combinations of documents that are put in same buckets in all rows\n",
    "\n",
    "b=8\n",
    "r=2\n",
    "candidates = set([])\n",
    "keylessBuckets = list(map(lambda row: set(map(tuple, row.values())), buckets)) #list of set of tuples\n",
    "\n",
    "startingTime = datetime.now()\n",
    "print(startingTime)\n",
    "\n",
    "for i in range(0,b*r,r):\n",
    "    print(i, i+r)\n",
    "    band = keylessBuckets[i:i+r]\n",
    "\n",
    "    listOfRowCandidates = []\n",
    "    for row in band: # row is [['1'], ['1', '18566'], ['1'], ['1'], ['1']..] set of tuples\n",
    "        rowCandidates = set([]) # all pairs from a row\n",
    "        for bucket in row: # bucket is ['2', '126908', '203926', '278946', '746802'] tuples\n",
    "            rowCandidates |= C(bucket, 2)\n",
    "        listOfRowCandidates.append(rowCandidates)\n",
    "        print(\"Finished row\", len(rowCandidates))\n",
    "    intersection = listOfRowCandidates[0] # intersections of rows in same band. pair becomes candidate if exists in all rows of a band\n",
    "    for rowCandidates in listOfRowCandidates:\n",
    "        intersection &= rowCandidates\n",
    "    candidates |= intersection\n",
    "    print(\"length of intersections within band\", len(intersection))\n",
    "    print(\"length of candidate weekends\", len(candidates))\n",
    "\n",
    "print(datetime.now()-startingTime)\n",
    "# print(len(candidates))"
   ]
  },
  {
   "cell_type": "code",
   "execution_count": null,
   "metadata": {
    "collapsed": false,
    "scrolled": true
   },
   "outputs": [],
   "source": [
    "print(list(keylessBuckets[0])[:30])\n",
    "print(candidates)\n",
    "print(len(candidates))"
   ]
  },
  {
   "cell_type": "code",
   "execution_count": 15,
   "metadata": {
    "collapsed": false
   },
   "outputs": [
    {
     "name": "stdout",
     "output_type": "stream",
     "text": [
      "30865\n"
     ]
    }
   ],
   "source": [
    "docsInCandidates = set([])\n",
    "for (i,j) in candidates:\n",
    "    docsInCandidates |= set([str(i),str(j)])\n",
    "print(len(docsInCandidates))"
   ]
  },
  {
   "cell_type": "code",
   "execution_count": 14,
   "metadata": {
    "collapsed": false
   },
   "outputs": [
    {
     "name": "stdout",
     "output_type": "stream",
     "text": [
      "2018-02-18 03:45:36.367299\n"
     ]
    },
    {
     "ename": "KeyboardInterrupt",
     "evalue": "",
     "output_type": "error",
     "traceback": [
      "\u001b[0;31m---------------------------------------------------------------------------\u001b[0m",
      "\u001b[0;31mKeyboardInterrupt\u001b[0m                         Traceback (most recent call last)",
      "\u001b[0;32m<ipython-input-14-aa4b0c4988b3>\u001b[0m in \u001b[0;36m<module>\u001b[0;34m()\u001b[0m\n\u001b[1;32m      7\u001b[0m \u001b[0mprint\u001b[0m\u001b[0;34m(\u001b[0m\u001b[0mstartingTime\u001b[0m\u001b[0;34m)\u001b[0m\u001b[0;34m\u001b[0m\u001b[0m\n\u001b[1;32m      8\u001b[0m \u001b[0;32mwith\u001b[0m \u001b[0mcodecs\u001b[0m\u001b[0;34m.\u001b[0m\u001b[0mopen\u001b[0m\u001b[0;34m(\u001b[0m\u001b[0;34m\"data_v1.txt\"\u001b[0m\u001b[0;34m,\u001b[0m \u001b[0;34m\"r\"\u001b[0m\u001b[0;34m,\u001b[0m \u001b[0;34m\"utf-8\"\u001b[0m\u001b[0;34m)\u001b[0m \u001b[0;32mas\u001b[0m \u001b[0minfile\u001b[0m\u001b[0;34m:\u001b[0m\u001b[0;34m\u001b[0m\u001b[0m\n\u001b[0;32m----> 9\u001b[0;31m     \u001b[0mlst\u001b[0m \u001b[0;34m=\u001b[0m \u001b[0mlist\u001b[0m\u001b[0;34m(\u001b[0m\u001b[0mmap\u001b[0m\u001b[0;34m(\u001b[0m\u001b[0;32mlambda\u001b[0m \u001b[0mline\u001b[0m\u001b[0;34m:\u001b[0m \u001b[0mkShingle\u001b[0m\u001b[0;34m(\u001b[0m\u001b[0mk\u001b[0m\u001b[0;34m,\u001b[0m \u001b[0mline\u001b[0m\u001b[0;34m)\u001b[0m\u001b[0;34m,\u001b[0m \u001b[0minfile\u001b[0m\u001b[0;34m.\u001b[0m\u001b[0mread\u001b[0m\u001b[0;34m(\u001b[0m\u001b[0;34m)\u001b[0m\u001b[0;34m.\u001b[0m\u001b[0msplitlines\u001b[0m\u001b[0;34m(\u001b[0m\u001b[0;34m)\u001b[0m\u001b[0;34m)\u001b[0m\u001b[0;34m)\u001b[0m \u001b[0;31m# samples\u001b[0m\u001b[0;34m\u001b[0m\u001b[0m\n\u001b[0m\u001b[1;32m     10\u001b[0m \u001b[0;34m\u001b[0m\u001b[0m\n\u001b[1;32m     11\u001b[0m \u001b[0mprint\u001b[0m\u001b[0;34m(\u001b[0m\u001b[0;34m\"done processing...\"\u001b[0m\u001b[0;34m,\u001b[0m \u001b[0mdatetime\u001b[0m\u001b[0;34m.\u001b[0m\u001b[0mnow\u001b[0m\u001b[0;34m(\u001b[0m\u001b[0;34m)\u001b[0m\u001b[0;34m-\u001b[0m\u001b[0mstartingTime\u001b[0m\u001b[0;34m)\u001b[0m\u001b[0;34m\u001b[0m\u001b[0m\n",
      "\u001b[0;32m<ipython-input-14-aa4b0c4988b3>\u001b[0m in \u001b[0;36m<lambda>\u001b[0;34m(line)\u001b[0m\n\u001b[1;32m      7\u001b[0m \u001b[0mprint\u001b[0m\u001b[0;34m(\u001b[0m\u001b[0mstartingTime\u001b[0m\u001b[0;34m)\u001b[0m\u001b[0;34m\u001b[0m\u001b[0m\n\u001b[1;32m      8\u001b[0m \u001b[0;32mwith\u001b[0m \u001b[0mcodecs\u001b[0m\u001b[0;34m.\u001b[0m\u001b[0mopen\u001b[0m\u001b[0;34m(\u001b[0m\u001b[0;34m\"data_v1.txt\"\u001b[0m\u001b[0;34m,\u001b[0m \u001b[0;34m\"r\"\u001b[0m\u001b[0;34m,\u001b[0m \u001b[0;34m\"utf-8\"\u001b[0m\u001b[0;34m)\u001b[0m \u001b[0;32mas\u001b[0m \u001b[0minfile\u001b[0m\u001b[0;34m:\u001b[0m\u001b[0;34m\u001b[0m\u001b[0m\n\u001b[0;32m----> 9\u001b[0;31m     \u001b[0mlst\u001b[0m \u001b[0;34m=\u001b[0m \u001b[0mlist\u001b[0m\u001b[0;34m(\u001b[0m\u001b[0mmap\u001b[0m\u001b[0;34m(\u001b[0m\u001b[0;32mlambda\u001b[0m \u001b[0mline\u001b[0m\u001b[0;34m:\u001b[0m \u001b[0mkShingle\u001b[0m\u001b[0;34m(\u001b[0m\u001b[0mk\u001b[0m\u001b[0;34m,\u001b[0m \u001b[0mline\u001b[0m\u001b[0;34m)\u001b[0m\u001b[0;34m,\u001b[0m \u001b[0minfile\u001b[0m\u001b[0;34m.\u001b[0m\u001b[0mread\u001b[0m\u001b[0;34m(\u001b[0m\u001b[0;34m)\u001b[0m\u001b[0;34m.\u001b[0m\u001b[0msplitlines\u001b[0m\u001b[0;34m(\u001b[0m\u001b[0;34m)\u001b[0m\u001b[0;34m)\u001b[0m\u001b[0;34m)\u001b[0m \u001b[0;31m# samples\u001b[0m\u001b[0;34m\u001b[0m\u001b[0m\n\u001b[0m\u001b[1;32m     10\u001b[0m \u001b[0;34m\u001b[0m\u001b[0m\n\u001b[1;32m     11\u001b[0m \u001b[0mprint\u001b[0m\u001b[0;34m(\u001b[0m\u001b[0;34m\"done processing...\"\u001b[0m\u001b[0;34m,\u001b[0m \u001b[0mdatetime\u001b[0m\u001b[0;34m.\u001b[0m\u001b[0mnow\u001b[0m\u001b[0;34m(\u001b[0m\u001b[0;34m)\u001b[0m\u001b[0;34m-\u001b[0m\u001b[0mstartingTime\u001b[0m\u001b[0;34m)\u001b[0m\u001b[0;34m\u001b[0m\u001b[0m\n",
      "\u001b[0;31mKeyboardInterrupt\u001b[0m: "
     ]
    }
   ],
   "source": [
    "# for each candidate pair in the list, \n",
    "# calculate the actual Jaccard Similarity and if JS > 0.75, \n",
    "# add to output list\n",
    "k = 5\n",
    "\n",
    "startingTime = datetime.now()\n",
    "print(startingTime)\n",
    "with codecs.open(\"data_v1.txt\", \"r\", \"utf-8\") as infile:\n",
    "    lst = list(map(lambda line: kShingle(k, line), infile.read().splitlines())) # samples\n",
    "\n",
    "print(\"done processing...\", datetime.now()-startingTime)\n",
    "\n",
    "    \n",
    "output = []\n",
    "count = 0\n",
    "logcount = 0\n",
    "for (i,j) in candidates:\n",
    "    if (jaccardSim(lst[i+1], lst[j+1]) > 0.75):\n",
    "#         print(lst[i+1],lst[j+1])\n",
    "        output.append((i,j))\n",
    "        count+=1\n",
    "        if math.log10(count) == logcount:\n",
    "            print(count)\n",
    "            logcount += 1\n",
    "print(len(output))\n",
    "\n",
    "print(datetime.now() - startingTime)"
   ]
  },
  {
   "cell_type": "code",
   "execution_count": null,
   "metadata": {
    "collapsed": false
   },
   "outputs": [],
   "source": [
    "# b=8\n",
    "# r=2\n",
    "# candidates = set([])\n",
    "# startingTime = datetime.now()\n",
    "# print(startingTime)\n",
    "# keylessBuckets = list(map(lambda row: set(map(tuple, row.values())), buckets))\n",
    "\n",
    "# print(\"finished keylessbucketing\", datetime.now()-startingTime)\n",
    "\n",
    "# for i in range(0,b,r):\n",
    "#     band = keylessBuckets[i:i+r]\n",
    "#     intersection = set([]) # intersections of rows in same band. pair becomes candidate if exists in all rows of a band\n",
    "#     for row in band: # row is [['1'], ['1', '18566'], ['1'], ['1'], ['1']..]\n",
    "#         rowCandidates = set([]) # all pairs from a row\n",
    "#         print(\"length of row\", len(row))\n",
    "#         for i, bucket in enumerate(row): # bucket is ['2', '126908', '203926', '278946', '746802']\n",
    "#             rowCandidates |= C(bucket, 2)\n",
    "#             if i%(10**4):\n",
    "#                 print(\"finished 10**4 buckets \",datetime.now()-startingTime)                \n",
    "#         print(\"finished row\", datetime.now()-startingTime)"
   ]
  },
  {
   "cell_type": "code",
   "execution_count": null,
   "metadata": {
    "collapsed": false
   },
   "outputs": [],
   "source": [
    "lst = ('df','asd','asdf')\n",
    "for i, ls in enumerate(lst):\n",
    "    print(i,ls)\n",
    "print(C(lst,2))"
   ]
  },
  {
   "cell_type": "code",
   "execution_count": 12,
   "metadata": {
    "collapsed": false
   },
   "outputs": [
    {
     "name": "stdout",
     "output_type": "stream",
     "text": [
      "1\n",
      "10\n",
      "100\n",
      "1000\n",
      "10000\n",
      "100000\n",
      "1000000\n"
     ]
    }
   ],
   "source": [
    "count = 0\n",
    "logcount = 0\n",
    "for i in range(10**20):\n",
    "    count+=1\n",
    "    if math.log10(count) == logcount:\n",
    "        print(count)\n",
    "        logcount += 1"
   ]
  },
  {
   "cell_type": "code",
   "execution_count": null,
   "metadata": {
    "collapsed": true
   },
   "outputs": [],
   "source": []
  }
 ],
 "metadata": {
  "kernelspec": {
   "display_name": "Python 3",
   "language": "python",
   "name": "python3"
  },
  "language_info": {
   "codemirror_mode": {
    "name": "ipython",
    "version": 3
   },
   "file_extension": ".py",
   "mimetype": "text/x-python",
   "name": "python",
   "nbconvert_exporter": "python",
   "pygments_lexer": "ipython3",
   "version": "3.6.0"
  }
 },
 "nbformat": 4,
 "nbformat_minor": 2
}
