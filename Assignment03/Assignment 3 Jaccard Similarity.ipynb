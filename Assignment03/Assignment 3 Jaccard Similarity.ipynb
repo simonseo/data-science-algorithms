{
 "cells": [
  {
   "cell_type": "code",
   "execution_count": 4,
   "metadata": {
    "collapsed": true
   },
   "outputs": [],
   "source": [
    "%load_ext Cython\n",
    "import numpy as np\n",
    "%matplotlib inline \n",
    "import matplotlib.pyplot as plt\n",
    "import random\n",
    "import codecs\n",
    "from datetime import datetime\n",
    "from hashlib import sha512\n",
    "import itertools\n",
    "import math"
   ]
  },
  {
   "cell_type": "code",
   "execution_count": null,
   "metadata": {
    "collapsed": true
   },
   "outputs": [],
   "source": [
    "#chop.py: simply chops the first however many lines\n",
    "import codecs\n",
    "\n",
    "OUTPUT_LINES = 1000\n",
    "\n",
    "with codecs.open(\"data_v1.txt\", \"r\", \"utf-8\") as infile:\n",
    "    with codecs.open(\"data_out_{}.txt\".format(OUTPUT_LINES), \"w\", \"utf-8\") as outfile:\n",
    "        for i, line in enumerate(infile):\n",
    "            if i > OUTPUT_LINES:\n",
    "                break\n",
    "            outfile.write(line)"
   ]
  },
  {
   "cell_type": "code",
   "execution_count": null,
   "metadata": {
    "collapsed": false
   },
   "outputs": [],
   "source": [
    "# randomsample.py\n",
    "# Randomly samples however many lines needed \n",
    "import codecs\n",
    "import random\n",
    "\n",
    "TOTAL_LINES = 10**6 + 2\n",
    "OUTPUT_LINES = 100000\n",
    "p = OUTPUT_LINES/TOTAL_LINES\n",
    "\n",
    "print(\"getting random sample of size {}\".format(OUTPUT_LINES))\n",
    "with codecs.open(\"data_v1.txt\", \"r\", \"utf-8\") as infile:\n",
    "\twith codecs.open(\"data_random_{}.txt\".format(OUTPUT_LINES), \"w\", \"utf-8\") as outfile:\n",
    "\t\toutput_count = 0\n",
    "\t\tfor i, line in enumerate(infile):\n",
    "\t\t\tif output_count < OUTPUT_LINES and random.random() < p:\n",
    "\t\t\t\toutfile.write(line)\n",
    "\t\t\t\toutput_count += 1\n",
    "\t\t\tif output_count >= OUTPUT_LINES:\n",
    "\t\t\t\tbreak\n",
    "print(\"done\")"
   ]
  },
  {
   "cell_type": "code",
   "execution_count": 5,
   "metadata": {
    "collapsed": false
   },
   "outputs": [
    {
     "name": "stdout",
     "output_type": "stream",
     "text": [
      "86\n",
      "[(1, 0), (1, 0), (1, 0), (1, 0), (1, 0), (1, 0), (1, 0), (2, 0), (2, 0), (2, 0), (3, 0), (3, 0), (3, 0), (4, 0), (5, 0), (5, 0), (6, 0), (7, 0), (7, 0), (8, 0), (10, 0), (11, 0), (12, 0), (12, 1), (14, 0), (14, 1), (15, 0), (15, 1), (17, 0), (17, 1), (19, 0), (19, 1), (22, 0), (22, 1), (25, 0), (25, 1), (28, 0), (28, 1), (31, 0), (31, 1), (35, 0), (35, 1), (39, 0), (39, 1), (44, 0), (44, 1), (50, 0), (50, 1), (56, 0), (56, 1), (63, 0), (63, 1), (70, 0), (70, 1), (79, 0), (79, 1), (89, 0), (89, 1), (100, 0), (100, 1), (112, 0), (112, 1), (125, 0), (125, 1), (125, 2), (141, 0), (141, 1), (141, 2), (158, 0), (158, 1), (158, 2), (177, 0), (177, 1), (177, 2), (199, 0), (199, 1), (199, 2), (223, 0), (223, 1), (223, 2), (251, 0), (251, 1), (251, 2), (281, 0), (281, 1), (281, 2)]\n"
     ]
    }
   ],
   "source": [
    "# findbr.py\n",
    "# Finds (b,r) parameters required for documents of \n",
    "# JS similarity s to be in candidate groups with probability p\n",
    "\n",
    "p = 0.98\n",
    "q = 1 - p\n",
    "s = 0.75\n",
    "rrange = range(2, 20)\n",
    "brange = range(0, 250, 5)\n",
    "\n",
    "res = []\n",
    "\n",
    "for b in brange:\n",
    "    b = 10**(-b/100)\n",
    "    for r in rrange:\n",
    "        if (1 - s**r < q**b):\n",
    "            res.append((int(1/b),r))\n",
    "l = len(res)\n",
    "print(l)\n",
    "if l < 250:\n",
    "    print(res)"
   ]
  },
  {
   "cell_type": "code",
   "execution_count": 18,
   "metadata": {
    "collapsed": false
   },
   "outputs": [
    {
     "name": "stdout",
     "output_type": "stream",
     "text": [
      "b 32 r 4 threshold 0.392 p(0.75) 0.9999948294270721\n",
      "b 16 r 8 threshold 0.696 p(0.75) 0.8150696025936272\n",
      "b 32 r 8 threshold 0.638 p(0.75) 0.9658007481151211\n",
      "b 8 r 4 threshold 0.558 p(0.75) 0.9523146837757369\n",
      "b 4 r 4 threshold 0.669 p(0.75) 0.7816303221043199\n",
      "b 8 r 2 threshold 0.258 p(0.75) 0.9986577776726335\n",
      "b 12 r 8 threshold 0.722 p(0.75) 0.7179953774618147\n",
      "b 8 r 12 threshold 0.836 p(0.75) 0.22702703415213388\n",
      "b 4 r 2 threshold 0.378 p(0.75) 0.9633636474609375\n"
     ]
    }
   ],
   "source": [
    "# findthreshold.py\n",
    "# for given (b,r) parameters, finds at which point s in [0,1] the slope is maximum.\n",
    "# also finds probability of document pairs that have JS=S is in candidate pairs\n",
    "\n",
    "srange = range(0,1000)\n",
    "# ordered b first, r second\n",
    "br = [(32,4), (16,8), (32,8), (8,4), (4,4), (8,2), (12,8), (8,12), (4,2)]\n",
    "\n",
    "fx = lambda s,b,r: 1-(1-s**r)**b\n",
    "tx = lambda b,r: (1/b)**(1/r)\n",
    "S = 0.75\n",
    "\n",
    "for (b,r) in br:\n",
    "    max_slope_threshold = (0, -1) # (s, f'(s))\n",
    "    for s in srange:\n",
    "        s = s/1000\n",
    "        fpx = r*b*(1-s**r)**(b-1)*s**(r-1)\n",
    "        if fpx > max_slope_threshold[1]:\n",
    "            # print(max_slope_threshold)\n",
    "            max_slope_threshold = (s, fpx)\n",
    "    print(\"b {} r {} threshold {} p({}) {}\".format(b, r, max_slope_threshold[0], S, fx(S, b, r)))\n",
    "\n"
   ]
  },
  {
   "cell_type": "code",
   "execution_count": null,
   "metadata": {
    "collapsed": false
   },
   "outputs": [],
   "source": [
    "# Finding optimal values of r and b for target JS = 0.75\n",
    "# these are ordered r first, b second\n",
    "l = [(4,32),(8,16),(8,32),(4,8),(4,4),(2,8)]\n",
    "\n",
    "fig = plt.figure(num=None, figsize=(12, 8), dpi=80, facecolor='w', edgecolor='k')\n",
    "for i, (r, b) in enumerate(l):\n",
    "    X = np.arange(0, 1, 0.01)\n",
    "    Y = list(map(lambda x: 1-(1-x**r)**b, X))\n",
    "    plt.subplot(2,3,1+i)\n",
    "    plt.plot(X, Y)\n",
    "    plt.title('$f(x) = 1−(1−x^{{{}}})^{{{}}}$'.format(r, b))\n",
    "    plt.xlabel('x')\n",
    "    plt.ylabel('f(x)')\n",
    "    x = 0.75\n",
    "    X = r\n",
    "    Y = b\n",
    "    print(X*Y*((1-x**X)**(Y-1))*(x**(X-1)))\n",
    "plt.tight_layout()\n",
    "plt.show()"
   ]
  },
  {
   "cell_type": "code",
   "execution_count": 35,
   "metadata": {
    "collapsed": false
   },
   "outputs": [
    {
     "name": "stdout",
     "output_type": "stream",
     "text": [
      "k-shingle word ['second lord that approaches apace', 'lord that approaches apace i', 'that approaches apace i would', 'approaches apace i would gladly', 'apace i would gladly have', 'i would gladly have him', 'would gladly have him see', 'gladly have him see his', 'have him see his parolles', 'him see his parolles what']\n",
      "k-shingle letters ['secon', 'econd', 'condl', 'ondlo', 'ndlor', 'dlord', 'lordt', 'ordth', 'rdtha', 'dthat', 'thata', 'hatap', 'atapp', 'tappr', 'appro', 'pproa', 'proac', 'roach', 'oache', 'aches']\n",
      "JS based on k-letter-shingles 0.7856420626895855\n",
      "JS based on k-word-shingles 0.4504792332268371\n",
      "['00a7aacd', '0006b29f', '00772d8b', '03fcf4c4', '00172ded', '001b4865', '0034feff', '000ef60e', '0055f618', '01146083', '012a89ac', '013b060b', '024c3d9b', '0197422a', '02cf145f', '004abd3e']\n",
      "['02162fb2', '00fd0bc7', '00c130aa', '00fa6844', '00cb1ff6', '01296b5e', '0008623d', '01785d98', '000e8392', '0291ab92', '00710b1e', '03e28697', '011e5310', '005eba77', '00700331', '00122878']\n",
      "minhashes of a single document ['00187691', '001479e5', '002a7994', '00001e9c', '001e4473', '0055cf7f', '0050f02c', '004f4c92', '00655808', '0094d658', '00bf96f3', '003e697b', '0015766f', '0042b0e7', '002fc7bc', '00052293']\n",
      "minhashes of a single document ['00050f5c', '00d377d9', '00612945', '0059d6ce', '00045335', '00f976fd', '000fc31d', '00253867', '008410dc', '009a7e97', '001a1274', '0038289d', '000ae221', '004adb98', '0018730c', '00262d45']\n",
      "0:00:00.011546\n"
     ]
    }
   ],
   "source": [
    "%%cython\n",
    "\n",
    "import string\n",
    "from datetime import datetime\n",
    "from hashlib import sha512\n",
    "import itertools\n",
    "\n",
    "def getWords(line):\n",
    "   words = line.strip().lower().split()\n",
    "   return list( map(lambda w: w.strip(string.punctuation), words) )\n",
    "\n",
    "#k-shingle based on words\n",
    "def kShingleWord(k, line, removeFirstWord=True):\n",
    "    words = getWords(line)\n",
    "    idx = words.pop(0)\n",
    "    result = [' '.join([words[i+j] for j in range(k)]) for i in range(len(words)-k)]\n",
    "    return result if removeFirstWord else (idx, result)\n",
    "    \n",
    "#k-shingle based on letters\n",
    "def kShingle(k, line, removeFirstWord=True):\n",
    "    words = getWords(line)\n",
    "    idx = words.pop(0)\n",
    "    line = ''.join(words)\n",
    "    result = [''.join([line[i+j] for j in range(k)]) for i in range(len(line)-k)]\n",
    "    # if removeFirstWord, return list of elements like ['0075c1c5', '005cf4fb',..., '00ccde89']\n",
    "    # if not removeFirstWord, return list of elements like ('6066', ['0075c1c5', '005cf4fb',..., '00ccde89'])\n",
    "    return result if removeFirstWord else (idx, result)\n",
    "    \n",
    "    \n",
    "\n",
    "st = \"6060 SECOND LORD. That approaches apace. I would gladly have him see his PAROLLES. What the dèvil should move me to undertake the recovery cheek of two pile and a half, but his right cheek is worn bare. COUNTESS. To be young again, if we could, I will be a fool in LAFEU. He was excellent indeed, madam; the King very lately spoke Boys. He was my father; and he is thrice a villain that says such father. He that so generally is at all times good must of Half won is match well made; match, and well make it; PAROLLES. It is to be recovered. But that the merit of service is HELENA. 'Till I have no wife, I have nothing in France.' Here is a pur of Fortune's, sir, or of Fortune's cat, but not CLOWN. You must not think I am so simple but I know the devil not seem to understand him, unless some one among us, whom we FIRST LORD. I am heartily sorry that he'll be glad of this. His part o' th' isle. Then does he say he lent me a solemn leave. His lordship will next morning for France. The them whipt; or I would send them to th' Turk to make eunuchs of. PAROLLES. 'Five or six thousand horse' I said-I will say true- 'or But take the High'st to witness. Then, pray you, tell me: But do not speak to me. Lead me to my chamber. Exeunt \"\n",
    "print(\"k-shingle word\", kShingleWord(5, st)[:10])\n",
    "print(\"k-shingle letters\", kShingle(5, st)[:20])\n",
    "\n",
    "# Jaccard similarity from two lists/sets of strings\n",
    "# if only given s1, assume s1 holds both of the two lists and unpack it\n",
    "def jaccardSim(s1, s2=None):\n",
    "    if s2 is None:\n",
    "        s1, s2 = s1\n",
    "    s1 = set(s1)\n",
    "    s2 = set(s2)\n",
    "    return len(s1 & s2) / len(s1 | s2)\n",
    "\n",
    "# shingles should be given as list of strings\n",
    "# this hashes all shingles (8 hash functions) and for each hash function find minimum value hashes.\n",
    "# the hash might not be a number but okay if hash is consistent and there is a clear ordering (alphabetical here)\n",
    "def minhash(shingles, h=16, l=8):\n",
    "    #h = 16 # no. of hashes we want\n",
    "    #l = 8 # length of each hash\n",
    "    hashes = ['z'*l] * h # minhashes are initialized to 'zzzzzzzz'\n",
    "    m = sha512()\n",
    "    for shingle in shingles:\n",
    "        m.update(shingle.encode('utf-8'))\n",
    "        newhash = m.hexdigest()\n",
    "        newhashes = [newhash[i:i+l] for i in range(0,l*h,l)] #divide 128 characters into 16 hashes of length 8\n",
    "        hashes = [min(hashes[i], newhashes[i]) for i in range(h)]\n",
    "    return hashes\n",
    "\n",
    "\n",
    "#st1 is documents 6393 and 7378 combined, st2 is 6393\n",
    "# similarity should be around 0.5 for both word-shingle and letter-shingle\n",
    "# st1 = \"6393 wear the surplice of humility over the black gown of a big heart. away; know it before the report come. If there be breadth enough BERTRAM. Why, if you have a stomach, to't, monsieur. If you think train'd me like a peasant, obscuring and hiding from me all BERTRAM. I'll lend it thee, my dear, but have no power KING. If it were yours by none of all these ways, See at the end of this file: * CONTENT NOTE (added in 2017) * face; if your lordship be in't, as I believe you are, you must COUNTESS. With very much content, my lord; and I wish it happily CHARMIAN. Nay, if an oily palm be not a fruitful prognostication, I LAFEU. I will buy me a son-in-law in a fair, and toll for this. FIRST SOLDIER. Boskos vauvado. I understand thee, and can speak thy PAROLLES. O my good lord, you were the first that found me. in death, which commits some loving act upon her, she hath such a PAROLLES. By the hand of a soldier, I will undertake it. child at fifty, to whom Herod of Jewry may do homage. Find me to sad a passage 'tis!-whose skill was almost as great as his in death, which commits some loving act upon her, she hath such a CLOWN. Faith, sir, 'a has an English name; but his fisnomy is more itself, which could not be her office to say is come, was 7378 whilst I have a tooth in my head. Why, he's able to lead her a against his valour; and my state that way is dangerous, since I PAROLLES. The Duke knows him for no other but a poor officer of to th' Queen? O that I knew this husband, which you say must ANTONY. That which is now a horse, even with a thought Fare you well, my lord; and believe this of me: there can be no beat thee. I think thou wast created for men to breathe ANTONY. Do so, we'll speak to them; and to-night I'll force much of my father in me as you, albeit I confess your coming dare not give. Wherefore, what's the instance? Tongue, I must put the toothpick, which wear not now. Your date is better in your ANTONY. I would they'd fight i' th' fire or i' th' air; PAROLLES. I know not what the success will be, my lord, but the neighbouring languages, therefore we must every one be a man of KING. Know you this ring? This ring was his of late. when old robes are worn out there are members to make new. If ENOBARBUS. Why, sir, give the gods a thankful sacrifice. When it sadness. My brother Jaques he keeps at school, and report speaks PAROLLES. I beseech your honour to hear me one single word. when he number'd thirty; 'a will be here to-morrow, or I am \"\n",
    "# st2 = \"6393 wear the surplice of humility over the black gown of a big heart. away; know it before the report come. If there be breadth enough BERTRAM. Why, if you have a stomach, to't, monsieur. If you think train'd me like a peasant, obscuring and hiding from me all BERTRAM. I'll lend it thee, my dear, but have no power KING. If it were yours by none of all these ways, See at the end of this file: * CONTENT NOTE (added in 2017) * face; if your lordship be in't, as I believe you are, you must COUNTESS. With very much content, my lord; and I wish it happily CHARMIAN. Nay, if an oily palm be not a fruitful prognostication, I LAFEU. I will buy me a son-in-law in a fair, and toll for this. FIRST SOLDIER. Boskos vauvado. I understand thee, and can speak thy PAROLLES. O my good lord, you were the first that found me. in death, which commits some loving act upon her, she hath such a PAROLLES. By the hand of a soldier, I will undertake it. child at fifty, to whom Herod of Jewry may do homage. Find me to sad a passage 'tis!-whose skill was almost as great as his in death, which commits some loving act upon her, she hath such a CLOWN. Faith, sir, 'a has an English name; but his fisnomy is more itself, which could not be her office to say is come, was \"\n",
    "st1 = \"if your lordship be in't, as I believe you are, you must your son was his return home, I moved the King my master to heed of the allurement of one Count Rousillon, a idle KING. Thou know'st has rais'd me from my sickly bed. but I must attend his command, to whom I am now in knows; 'tis a goodly patch of velvet. His left cheek is a exile with him, whose lands revenues enrich the new Duke; ENOBARBUS. This was but as a fly an eagle. We had much more COUNTESS. Sirrah, tell my gentlewoman would speak with her; Helen CLEOPATRA. Not to hear thee sing; I take no pleasure CLEOPATRA. I have mind to strike thee ere thou speak'st. difference betwixt their two estates; Love god, that would not nicer needs. The last was the greatest, that I have not ended ORLANDO. As I Adam, it was upon this fashion bequeathed me the King's sake, he were living! I it would be the death of [To CAESAR] Thus do they, sir: they take the flow o' th' ENOBARBUS. Why, sir, give the gods thankful sacrifice. When it IRAS. Am I not an inch of fortune better she? FIRST LORD. I heartily sorry that he'll be glad of this. could be contented to be what they there were no fear in \"\n",
    "st2 = \"face; if your lordship be in't, as I believe you are, you must your son was upon his return home, I moved the King my master to heed of the allurement of one Count Rousillon, a foolish idle KING. Thou know'st she has rais'd me from my sickly bed. but I must attend his Majesty's command, to whom I am now in knows; but 'tis a goodly patch of velvet. His left cheek is a exile with him, whose lands and revenues enrich the new Duke; ENOBARBUS. This was but as a fly by an eagle. We had much more COUNTESS. Sirrah, tell my gentlewoman I would speak with her; Helen CLEOPATRA. Not now to hear thee sing; I take no pleasure CLEOPATRA. I have a mind to strike thee ere thou speak'st. difference betwixt their two estates; Love no god, that would not nicer needs. The last was the greatest, but that I have not ended ORLANDO. As I remember, Adam, it was upon this fashion bequeathed me the King's sake, he were living! I think it would be the death of ANTONY. [To CAESAR] Thus do they, sir: they take the flow o' th' ENOBARBUS. Why, sir, give the gods a thankful sacrifice. When it IRAS. Am I not an inch of fortune better than she? FIRST LORD. I am heartily sorry that he'll be glad of this. could be contented to be what they are, there were no fear in \"\n",
    "s1 = kShingle(5, st1)\n",
    "s2 = kShingle(5, st2)\n",
    "print(\"JS based on k-letter-shingles\", jaccardSim(s1, s2))\n",
    "s1 = kShingleWord(5, st1)\n",
    "s2 = kShingleWord(5, st2)\n",
    "print(\"JS based on k-word-shingles\", jaccardSim(s1, s2))\n",
    "print(minhash(s1))\n",
    "print(minhash(s2))\n",
    "\n",
    "\n",
    "# st2 = \"6393 wear the surplice of humility over the black gown of a big heart. away; know it before the report come. If there be breadth enough BERTRAM. Why, if you have a stomach, to't, monsieur. If you think train'd me like a peasant, obscuring and hiding from me all BERTRAM. I'll lend it thee, my dear, but have no power KING. If it were yours by none of all these ways, See at the end of this file: * CONTENT NOTE (added in 2017) * face; if your lordship be in't, as I believe you are, you must COUNTESS. With very much content, my lord; and I wish it happily CHARMIAN. Nay, if an oily palm be not a fruitful prognostication, I LAFEU. I will buy me a son-in-law in a fair, and toll for this. FIRST SOLDIER. Boskos vauvado. I understand thee, and can speak thy PAROLLES. O my good lord, you were the first that found me. in death, which commits some loving act upon her, she hath such a PAROLLES. By the hand of a soldier, I will undertake it. child at fifty, to whom Herod of Jewry may do homage. Find me to sad a passage 'tis!-whose skill was almost as great as his in death, which commits some loving act upon her, she hath such a CLOWN. Faith, sir, 'a has an English name; but his fisnomy is more itself, which could not be her office to say is come, was \"\n",
    "\n",
    "\n",
    "\n",
    "startingTime = datetime.now()\n",
    "print(\"minhashes of a single document\", minhash(kShingle(5, st2)))\n",
    "print(\"minhashes of a single document\", minhash(kShingle(5, st1)))\n",
    "print(datetime.now()-startingTime)\n",
    "\n",
    "def C(lst, r):\n",
    "    #returns all \"choose r\" combinations as a set\n",
    "    return set(map(lambda x: tuple(sorted(x)), itertools.combinations(lst, r)))\n"
   ]
  },
  {
   "cell_type": "code",
   "execution_count": null,
   "metadata": {
    "collapsed": false
   },
   "outputs": [],
   "source": [
    "#plot histogram of distribution of JS\n",
    "# usually between 0.0 and 0.2 (99.99%)\n",
    "OUTPUT_LINES = 1000\n",
    "k = 5\n",
    "\n",
    "with codecs.open(\"data_random_{}.txt\".format(OUTPUT_LINES), \"r\", \"utf-8\") as infile:\n",
    "    lst = map(lambda line: kShingleWord(k, line), infile.read().splitlines()) # samples\n",
    "\n",
    "startTime = datetime.now()\n",
    "print(startTime)\n",
    "pairs = list(itertools.combinations(lst, 2)) # all document combinations\n",
    "jaccard_similarities = list(map(jaccardSim, pairs))\n",
    "\n",
    "plt.subplot()\n",
    "plt.title(\"Jaccard Similarities for #documents={}\".format(OUTPUT_LINES))\n",
    "plt.hist(jaccard_similarities,'auto')\n",
    "plt.show()\n",
    "print(datetime.now() - startTime)"
   ]
  },
  {
   "cell_type": "code",
   "execution_count": null,
   "metadata": {
    "collapsed": false,
    "scrolled": true
   },
   "outputs": [],
   "source": [
    "# What are the lowest and highest values of JS in the random file?\n",
    "js = sorted(jaccard_similarities)\n",
    "js[0], js[-1]"
   ]
  },
  {
   "cell_type": "code",
   "execution_count": null,
   "metadata": {
    "collapsed": false
   },
   "outputs": [],
   "source": [
    "# SHA-512 api example\n",
    "m = sha512()\n",
    "m.update(\"hello world\".encode('utf-8'))\n",
    "print(m.hexdigest(), len(m.hexdigest()))\n"
   ]
  },
  {
   "cell_type": "code",
   "execution_count": null,
   "metadata": {
    "collapsed": false
   },
   "outputs": [],
   "source": [
    "# How long does it take to find shingles? Less than 10 seconds for 10^6 documents\n",
    "OUTPUT_LINES = 100\n",
    "k = 5\n",
    "\n",
    "startingTime = datetime.now()\n",
    "with codecs.open(\"data_random_{}.txt\".format(OUTPUT_LINES), \"r\", \"utf-8\") as infile:\n",
    "    lst = map(lambda line: kShingle(5, line), infile.read().splitlines()) # samples\n",
    "\n",
    "print(datetime.now()-startingTime)"
   ]
  },
  {
   "cell_type": "code",
   "execution_count": 36,
   "metadata": {
    "collapsed": true
   },
   "outputs": [],
   "source": [
    "HASH_FILE_NAME = \"minhash_data_v1.txt\""
   ]
  },
  {
   "cell_type": "code",
   "execution_count": 23,
   "metadata": {
    "collapsed": false
   },
   "outputs": [
    {
     "name": "stdout",
     "output_type": "stream",
     "text": [
      "Started at 2018-02-18 21:31:02.963818\n",
      "Finished shingling data at 2018-02-18 21:31:10.388136\n",
      "1 0:00:07.428168\n",
      "10 0:00:07.444327\n",
      "100 0:00:07.595085\n",
      "1000 0:00:09.085106\n",
      "10000 0:00:24.172588\n",
      "100000 0:02:51.763894\n",
      "1000000 0:27:34.642448\n",
      "Finished minhashing data at 0:27:35.505092\n"
     ]
    }
   ],
   "source": [
    "# Caculate minhashes and save in file\n",
    "# takes about 5.6 ms for running minhash with 16 hashes (all derived from 1 SHA-512 function call) on each document.\n",
    "# expected to take about 1.5 hrs for 10^6 documents\n",
    "\n",
    "k = 5\n",
    "HASH_FILE_NAME = \"minhash_data_v1.txt\"\n",
    "\n",
    "startingTime = datetime.now()\n",
    "print(\"Started at {}\".format(startingTime))\n",
    "\n",
    "with codecs.open(\"data_v1.txt\", \"r\", \"utf-8\") as infile:\n",
    "    lst = map(lambda line: kShingleWord(k, line, False), infile.read().splitlines()) # samples\n",
    "\n",
    "print(\"Finished shingling data at {}\".format(datetime.now()))\n",
    "\n",
    "count = 0\n",
    "logcount = 0\n",
    "with codecs.open(HASH_FILE_NAME, \"w\", \"utf-8\") as outfile:\n",
    "    for (idx, shingles) in lst:\n",
    "        outfile.write(\"{} {}\\n\".format(idx, ' '.join(minhash(shingles))))\n",
    "        count+=1\n",
    "        if math.log10(count) == logcount:\n",
    "            print(count, datetime.now()-startingTime)\n",
    "            logcount += 1\n",
    "\n",
    "print(\"Finished minhashing data at {}\".format(datetime.now()-startingTime))\n",
    "#27 minutes for 10^6 documents for 5-word-shingles"
   ]
  },
  {
   "cell_type": "code",
   "execution_count": 37,
   "metadata": {
    "collapsed": false,
    "scrolled": true
   },
   "outputs": [
    {
     "name": "stdout",
     "output_type": "stream",
     "text": [
      "2018-02-18 23:00:25.227812\n",
      "[{}, {}, {}, {}, {}, {}, {}, {}, {}, {}, {}, {}, {}, {}, {}, {}]\n",
      "length of buckets 16\n",
      "0:01:08.201446\n",
      "[('0052f3a0', [1]), ('0070a6be', [2]), ('001f135a', [3]), ('0013811e', [4]), ('000c0342', [5]), ('00700253', [6]), ('0016c791', [7]), ('01312c26', [8]), ('00926889', [9]), ('00051d28', [10]), ('00230c45', [11]), ('01d331f2', [12]), ('00e47b0e', [13]), ('0010c66f', [14]), ('008650f4', [15]), ('000f629a', [16]), ('00703ae1', [17]), ('006351b0', [18]), ('002fe2e1', [19, 146535]), ('003922a8', [20]), ('0031c1fc', [21]), ('0001c729', [22]), ('005c00f7', [23]), ('0022bae1', [24]), ('0036299c', [25]), ('002a5e2f', [26]), ('0006ea45', [27]), ('005a02f6', [28]), ('00317848', [29]), ('001a71ea', [30, 768630, 782122])]\n"
     ]
    }
   ],
   "source": [
    "# Put documents into buckets\n",
    "# create 16 dictionaries, one for each hash.\n",
    "# for each hashed document, put the index of the document into the 16 dictionaries with the hash as the key. like so:\n",
    "\n",
    "# h1dict = {ecba2d : [1]}\n",
    "# h2dict = {dfqfe3 : [1]}\n",
    "# etc.\n",
    "\n",
    "\n",
    "\n",
    "startingTime = datetime.now()\n",
    "print(startingTime)\n",
    "with codecs.open(HASH_FILE_NAME, \"r\") as infile:\n",
    "    lst = map(getWords, infile.read().splitlines())\n",
    "    \n",
    "\n",
    "h = 16 # number of hash functions\n",
    "buckets = [{}, {}, {}, {}, {}, {}, {}, {}, {}, {}, {}, {}, {}, {}, {}, {}]\n",
    "print(buckets)\n",
    "for (j, words) in enumerate(lst):\n",
    "    idx = int(words[0]) #idx of doc\n",
    "    hashes = words[1:] #16 hashes\n",
    "    for (i, hashVal) in enumerate(hashes): # put each hash into their respective buckets\n",
    "        bucket = buckets[i].get(hashVal, []) #the usual way\n",
    "        bucket.append(idx)\n",
    "        buckets[i][hashVal] = bucket\n",
    "        \n",
    "#         if j < 5:\n",
    "#             print('i', i, \" idx\", idx, \" bucket\", bucket, \" buckets[i]\", buckets[i], \" hashVal\", hashVal)\n",
    "print(\"length of buckets\",len(buckets))\n",
    "print(datetime.now() - startingTime)\n",
    "print(list(buckets[1].items())[:30])"
   ]
  },
  {
   "cell_type": "code",
   "execution_count": 11,
   "metadata": {
    "collapsed": false
   },
   "outputs": [
    {
     "name": "stdout",
     "output_type": "stream",
     "text": [
      "[[1], [2], [3], [4, 718991], [5], [6], [7], [8], [9], [10], [11], [12], [13], [14], [15], [16], [17], [18], [146535], [20], [21], [22], [23], [24, 335685], [25], [26], [27], [28], [29], [782122], [31], [962078], [950174], [34], [35], [36], [37], [300469, 306835, 329763, 333683, 369923, 385715, 392979, 412803, 422835, 429091, 454163, 469123, 489331, 489409, 489585, 499283, 526547, 529875, 537587, 572211, 579059, 625155, 641414, 659923, 680787, 688622, 696099, 700734, 701070, 701665, 701873, 704531, 706371, 706403, 707822, 715987, 739987, 740222, 740526, 752830, 762830, 767912, 768295, 768849, 774574, 783799, 788611, 797230, 798542, 800903, 819975, 826547, 831831, 835191, 836739, 838974, 843463, 844558, 845319, 855134, 858910, 862350, 883731, 897443, 904355, 908318, 909075, 918846, 922579, 953827, 957105, 962659, 963182, 965870, 967251, 980830, 988003, 988691, 992174, 992654, 994611, 995027, 998963], [971022], [40], [393307], [42], [43], [44], [45], [46], [47], [48], [784739], [789557], [51], [52], [53], [54], [81002], [56], [57], [58], [59], [60], [61], [62], [63], [64], [687581], [66], [67, 132435, 520347], [68], [69], [70], [931163], [72], [73], [678213], [75], [76, 480907], [77], [78], [79], [80], [81], [82], [83], [84], [85], [86], [87], [88, 309553], [89], [90], [91], [92], [93], [94], [999663], [96], [506027], [98], [99], [100]]\n",
      "16\n"
     ]
    }
   ],
   "source": [
    "# [len(buckets[i]) for i in range(16)]\n",
    "# print(list(buckets[0].values())[:1000])\n",
    "print(list(buckets[1].values())[:100])\n",
    "print(len(buckets))"
   ]
  },
  {
   "cell_type": "code",
   "execution_count": 38,
   "metadata": {
    "collapsed": false
   },
   "outputs": [
    {
     "name": "stdout",
     "output_type": "stream",
     "text": [
      "2018-02-18 23:01:46.881374\n",
      "0 2\n",
      "Finished row 11741895\n",
      "Finished row 12187899\n",
      "length of intersections within band 83832\n",
      "length of candidate weekends 83832\n",
      "2 4\n",
      "Finished row 13699087\n",
      "Finished row 130388013\n",
      "length of intersections within band 987408\n",
      "length of candidate weekends 1071232\n",
      "4 6\n",
      "Finished row 9966891\n",
      "Finished row 10250667\n",
      "length of intersections within band 134558\n",
      "length of candidate weekends 1205779\n",
      "6 8\n",
      "Finished row 10292661\n",
      "Finished row 14111571\n",
      "length of intersections within band 154174\n",
      "length of candidate weekends 1359942\n",
      "8 10\n",
      "Finished row 9471510\n",
      "Finished row 14132027\n",
      "length of intersections within band 202677\n",
      "length of candidate weekends 1562609\n",
      "10 12\n",
      "Finished row 11909920\n",
      "Finished row 42645344\n",
      "length of intersections within band 95714\n",
      "length of candidate weekends 1658155\n",
      "12 14\n",
      "Finished row 8714414\n",
      "Finished row 12851207\n",
      "length of intersections within band 193027\n",
      "length of candidate weekends 1851122\n",
      "14 16\n",
      "Finished row 12599113\n",
      "Finished row 15227033\n",
      "length of intersections within band 321621\n",
      "length of candidate weekends 2172651\n",
      "0:10:40.669555\n"
     ]
    }
   ],
   "source": [
    "# divide into b=8 bands, r=2 rows\n",
    "# for each band, find all combinations of documents that are put in same buckets in all rows\n",
    "\n",
    "b=8\n",
    "r=2\n",
    "candidates = set([])\n",
    "keylessBuckets = list(map(lambda row: set(map(tuple, row.values())), buckets)) #list of set of tuples\n",
    "\n",
    "startingTime = datetime.now()\n",
    "print(startingTime)\n",
    "\n",
    "for i in range(0,b*r,r):\n",
    "    print(i, i+r)\n",
    "    band = keylessBuckets[i:i+r]\n",
    "\n",
    "    listOfRowCandidates = []\n",
    "    for row in band: # row is [['1'], ['1', '18566'], ['1'], ['1'], ['1']..] set of tuples\n",
    "        rowCandidates = set([]) # all pairs from a row\n",
    "        for bucket in row: # bucket is ['2', '126908', '203926', '278946', '746802'] tuples\n",
    "            rowCandidates |= C(bucket, 2)\n",
    "        listOfRowCandidates.append(rowCandidates)\n",
    "        print(\"Finished row\", len(rowCandidates))\n",
    "    intersection = listOfRowCandidates[0] # intersections of rows in same band. pair becomes candidate if exists in all rows of a band\n",
    "    for rowCandidates in listOfRowCandidates:\n",
    "        intersection &= rowCandidates\n",
    "    candidates |= intersection\n",
    "    print(\"length of intersections within band\", len(intersection))\n",
    "    print(\"length of candidate weekends\", len(candidates))\n",
    "\n",
    "print(datetime.now()-startingTime)\n",
    "# print(len(candidates))"
   ]
  },
  {
   "cell_type": "code",
   "execution_count": 12,
   "metadata": {
    "collapsed": false,
    "scrolled": true
   },
   "outputs": [
    {
     "name": "stdout",
     "output_type": "stream",
     "text": [
      "[(168815,), (788986,), (896917,), (620731,), (696150,), (184452, 343314), (521957,), (93552,), (801190,), (616807,), (692210,), (379737, 647050), (272987,), (409846,), (177079,), (937181,), (596227,), (704414,), (304578, 756212), (4711, 265982), (317959,), (422034,), (497453,), (69048,), (172115,), (837358,), (592303,), (699450,), (317263, 771320), (493513,)]\n",
      "[(508841, 795855), (675162, 961280), (128480, 851314), (317763, 783189), (345177, 860794), (732369, 869782), (215983, 931367), (547402, 744410), (518954, 720570), (185482, 342880), (100336, 349555), (679186, 823597), (762203, 955035), (548287, 797554), (294165, 344032), (488266, 666567), (475862, 929686), (344212, 927540), (387362, 416299), (385783, 412002), (793295, 923626), (439607, 523232), (755633, 916377), (581480, 957575), (796342, 861318), (177646, 375086), (641304, 668706), (373162, 385539), (916146, 933249), (117513, 713306)]\n",
      "108078\n",
      "[(646353, 874184), (269016, 810023), (557754, 819642), (263549, 348542), (184452, 343314), (635150, 690436), (749652, 913364), (286227, 356433), (678701, 686160), (104263, 439204), (361728, 773350), (485575, 855998), (305751, 776629), (553760, 963056), (652201, 806097), (407835, 557566), (518954, 720570), (714297, 714849), (60133, 222460), (509908, 830884), (785336, 921109), (522921, 853433), (799351, 972877), (189539, 484420), (620635, 720931), (584344, 635262), (679186, 823597), (594966, 768567), (613715, 992499), (762203, 955035)]\n"
     ]
    }
   ],
   "source": [
    "print(list(keylessBuckets[0])[:30])\n",
    "print(list(candidates)[:30])\n",
    "print(len(candidates))\n",
    "print(list(rowCandidates)[:30])\n"
   ]
  },
  {
   "cell_type": "code",
   "execution_count": 39,
   "metadata": {
    "collapsed": false
   },
   "outputs": [
    {
     "name": "stdout",
     "output_type": "stream",
     "text": [
      "30865\n",
      "True True\n",
      "True True\n",
      "False False\n"
     ]
    }
   ],
   "source": [
    "docsInCandidates = set([])\n",
    "for (i,j) in candidates:\n",
    "    docsInCandidates |= set([i,j])\n",
    "print(len(docsInCandidates))\n",
    "print(197904 in docsInCandidates, 704395 in docsInCandidates)\n",
    "print(322400 in docsInCandidates, 370208 in docsInCandidates)\n",
    "print(293909 in docsInCandidates, 924156 in docsInCandidates)"
   ]
  },
  {
   "cell_type": "code",
   "execution_count": null,
   "metadata": {
    "collapsed": true
   },
   "outputs": [],
   "source": [
    "startingTime = datetime.now()\n",
    "print(startingTime)\n",
    "with codecs.open(\"data_v1.txt\", \"r\", \"utf-8\") as infile:\n",
    "    lst = [kShingle(k, line) if int(line.split(' ',1)[0]) in docsInCandidates else [''] for line in infile.read().splitlines() ] # samples\n",
    "\n",
    "print(\"done processing...\", datetime.now()-startingTime)"
   ]
  },
  {
   "cell_type": "code",
   "execution_count": 15,
   "metadata": {
    "collapsed": false,
    "scrolled": true
   },
   "outputs": [
    {
     "name": "stdout",
     "output_type": "stream",
     "text": [
      "2018-02-18 20:50:37.438269\n",
      "done processing... 0:00:36.389656\n",
      "0\n",
      "0:00:36.408801\n"
     ]
    }
   ],
   "source": [
    "# for each candidate pair in the list, \n",
    "# calculate the actual Jaccard Similarity and if JS > 0.75, \n",
    "# add to output list\n",
    "k = 5\n",
    "\n",
    "startingTime = datetime.now()\n",
    "print(startingTime)\n",
    "    \n",
    "output = []\n",
    "count = 0\n",
    "logcount = 0\n",
    "for (i,j) in candidates:\n",
    "    js = jaccardSim(lst[i-1], lst[j-1])\n",
    "    if (js > 0.75):\n",
    "        output.append((i,j))\n",
    "        count+=1\n",
    "        if math.log10(count) == logcount:\n",
    "            print(count, js, (i,j), (lst[i-1], lst[j-1]))\n",
    "            logcount += 1\n",
    "print(len(output))\n",
    "\n",
    "print(datetime.now() - startingTime)"
   ]
  },
  {
   "cell_type": "code",
   "execution_count": 10,
   "metadata": {
    "collapsed": false
   },
   "outputs": [
    {
     "name": "stdout",
     "output_type": "stream",
     "text": [
      "322400 370208 1.0\n"
     ]
    }
   ],
   "source": [
    "for i,j in output:\n",
    "    print(i,j,jaccardSim(lst[i-1],lst[j-1]))"
   ]
  },
  {
   "cell_type": "code",
   "execution_count": null,
   "metadata": {
    "collapsed": false
   },
   "outputs": [],
   "source": []
  },
  {
   "cell_type": "code",
   "execution_count": null,
   "metadata": {
    "collapsed": false
   },
   "outputs": [],
   "source": []
  },
  {
   "cell_type": "code",
   "execution_count": 12,
   "metadata": {
    "collapsed": false
   },
   "outputs": [
    {
     "name": "stdout",
     "output_type": "stream",
     "text": [
      "1\n",
      "10\n",
      "100\n",
      "1000\n",
      "10000\n",
      "100000\n",
      "1000000\n"
     ]
    }
   ],
   "source": [
    "count = 0\n",
    "logcount = 0\n",
    "for i in range(10**20):\n",
    "    count+=1\n",
    "    if math.log10(count) == logcount:\n",
    "        print(count)\n",
    "        logcount += 1"
   ]
  },
  {
   "cell_type": "code",
   "execution_count": null,
   "metadata": {
    "collapsed": true
   },
   "outputs": [],
   "source": []
  }
 ],
 "metadata": {
  "kernelspec": {
   "display_name": "Python 3",
   "language": "python",
   "name": "python3"
  },
  "language_info": {
   "codemirror_mode": {
    "name": "ipython",
    "version": 3
   },
   "file_extension": ".py",
   "mimetype": "text/x-python",
   "name": "python",
   "nbconvert_exporter": "python",
   "pygments_lexer": "ipython3",
   "version": "3.6.0"
  }
 },
 "nbformat": 4,
 "nbformat_minor": 2
}
