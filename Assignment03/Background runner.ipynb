{
 "cells": [
  {
   "cell_type": "code",
   "execution_count": 2,
   "metadata": {
    "collapsed": true
   },
   "outputs": [],
   "source": [
    "%load_ext Cython"
   ]
  },
  {
   "cell_type": "code",
   "execution_count": 4,
   "metadata": {
    "collapsed": false,
    "scrolled": true
   },
   "outputs": [
    {
     "name": "stdout",
     "output_type": "stream",
     "text": [
      "2018-02-18 21:58:33.666476\n"
     ]
    },
    {
     "ename": "KeyboardInterrupt",
     "evalue": "",
     "output_type": "error",
     "traceback": [
      "\u001b[0;31m---------------------------------------------------------------------------\u001b[0m",
      "\u001b[0;31mKeyboardInterrupt\u001b[0m                         Traceback (most recent call last)",
      "\u001b[0;32m<ipython-input-4-d11366ef5c08>\u001b[0m in \u001b[0;36m<module>\u001b[0;34m()\u001b[0m\n\u001b[0;32m----> 1\u001b[0;31m \u001b[0mget_ipython\u001b[0m\u001b[0;34m(\u001b[0m\u001b[0;34m)\u001b[0m\u001b[0;34m.\u001b[0m\u001b[0mrun_cell_magic\u001b[0m\u001b[0;34m(\u001b[0m\u001b[0;34m'cython'\u001b[0m\u001b[0;34m,\u001b[0m \u001b[0;34m''\u001b[0m\u001b[0;34m,\u001b[0m \u001b[0;34m'import numpy as np\\n# %matplotlib inline \\nimport matplotlib.pyplot as plt\\nimport random\\nimport codecs\\nfrom datetime import datetime\\nfrom hashlib import sha512\\nimport itertools\\n\\nimport string\\n\\ndef getWords(line):\\n   words = line.strip().lower().split()\\n   return list( map(lambda w: w.strip(string.punctuation), words) )\\n\\ndef kShingleWord(k, line, removeFirstWord=True):\\n    words = getWords(line)\\n    if removeFirstWord:\\n        words.pop(0)\\n    return [\\' \\'.join([words[i+j] for j in range(k)]) for i in range(len(words)-k)]\\n    \\ndef kShingle(k, line, removeFirstWord=True):\\n    words = getWords(line)\\n    if removeFirstWord:\\n        words.pop(0)\\n    line = \\'\\'.join(words)\\n    return [\\'\\'.join([line[i+j] for j in range(k)]) for i in range(len(line)-k)]\\n\\ndef jaccardSim(s1, s2=None):\\n    if s2 is None:\\n        s1, s2 = s1\\n    s1 = set(s1)\\n    s2 = set(s2)\\n    return len(s1 & s2) / len(s1 | s2)\\n\\n\\n#plot histogram of JS\\nOUTPUT_LINES = 10000\\nk = 5\\nstartTime = datetime.now()\\nprint(startTime)\\nwith codecs.open(\"data_random_{}.txt\".format(OUTPUT_LINES), \"r\", \"utf-8\") as infile:\\n    lst = map(lambda x: kShingle(5, x), infile.read().splitlines()) # samples\\n\\npairs = list(itertools.combinations(lst, 2)) # document pairs\\njaccard_similarities = list(map(jaccardSim, pairs))\\n\\nplt.subplot()\\nplt.hist(jaccard_similarities,50)\\nplt.show()\\nprint(datetime.now() - startTime)'\u001b[0m\u001b[0;34m)\u001b[0m\u001b[0;34m\u001b[0m\u001b[0m\n\u001b[0m",
      "\u001b[0;32m/Users/seo/anaconda3/lib/python3.6/site-packages/IPython/core/interactiveshell.py\u001b[0m in \u001b[0;36mrun_cell_magic\u001b[0;34m(self, magic_name, line, cell)\u001b[0m\n\u001b[1;32m   2113\u001b[0m             \u001b[0mmagic_arg_s\u001b[0m \u001b[0;34m=\u001b[0m \u001b[0mself\u001b[0m\u001b[0;34m.\u001b[0m\u001b[0mvar_expand\u001b[0m\u001b[0;34m(\u001b[0m\u001b[0mline\u001b[0m\u001b[0;34m,\u001b[0m \u001b[0mstack_depth\u001b[0m\u001b[0;34m)\u001b[0m\u001b[0;34m\u001b[0m\u001b[0m\n\u001b[1;32m   2114\u001b[0m             \u001b[0;32mwith\u001b[0m \u001b[0mself\u001b[0m\u001b[0;34m.\u001b[0m\u001b[0mbuiltin_trap\u001b[0m\u001b[0;34m:\u001b[0m\u001b[0;34m\u001b[0m\u001b[0m\n\u001b[0;32m-> 2115\u001b[0;31m                 \u001b[0mresult\u001b[0m \u001b[0;34m=\u001b[0m \u001b[0mfn\u001b[0m\u001b[0;34m(\u001b[0m\u001b[0mmagic_arg_s\u001b[0m\u001b[0;34m,\u001b[0m \u001b[0mcell\u001b[0m\u001b[0;34m)\u001b[0m\u001b[0;34m\u001b[0m\u001b[0m\n\u001b[0m\u001b[1;32m   2116\u001b[0m             \u001b[0;32mreturn\u001b[0m \u001b[0mresult\u001b[0m\u001b[0;34m\u001b[0m\u001b[0m\n\u001b[1;32m   2117\u001b[0m \u001b[0;34m\u001b[0m\u001b[0m\n",
      "\u001b[0;32m<decorator-gen-124>\u001b[0m in \u001b[0;36mcython\u001b[0;34m(self, line, cell)\u001b[0m\n",
      "\u001b[0;32m/Users/seo/anaconda3/lib/python3.6/site-packages/IPython/core/magic.py\u001b[0m in \u001b[0;36m<lambda>\u001b[0;34m(f, *a, **k)\u001b[0m\n\u001b[1;32m    186\u001b[0m     \u001b[0;31m# but it's overkill for just that one bit of state.\u001b[0m\u001b[0;34m\u001b[0m\u001b[0;34m\u001b[0m\u001b[0m\n\u001b[1;32m    187\u001b[0m     \u001b[0;32mdef\u001b[0m \u001b[0mmagic_deco\u001b[0m\u001b[0;34m(\u001b[0m\u001b[0marg\u001b[0m\u001b[0;34m)\u001b[0m\u001b[0;34m:\u001b[0m\u001b[0;34m\u001b[0m\u001b[0m\n\u001b[0;32m--> 188\u001b[0;31m         \u001b[0mcall\u001b[0m \u001b[0;34m=\u001b[0m \u001b[0;32mlambda\u001b[0m \u001b[0mf\u001b[0m\u001b[0;34m,\u001b[0m \u001b[0;34m*\u001b[0m\u001b[0ma\u001b[0m\u001b[0;34m,\u001b[0m \u001b[0;34m**\u001b[0m\u001b[0mk\u001b[0m\u001b[0;34m:\u001b[0m \u001b[0mf\u001b[0m\u001b[0;34m(\u001b[0m\u001b[0;34m*\u001b[0m\u001b[0ma\u001b[0m\u001b[0;34m,\u001b[0m \u001b[0;34m**\u001b[0m\u001b[0mk\u001b[0m\u001b[0;34m)\u001b[0m\u001b[0;34m\u001b[0m\u001b[0m\n\u001b[0m\u001b[1;32m    189\u001b[0m \u001b[0;34m\u001b[0m\u001b[0m\n\u001b[1;32m    190\u001b[0m         \u001b[0;32mif\u001b[0m \u001b[0mcallable\u001b[0m\u001b[0;34m(\u001b[0m\u001b[0marg\u001b[0m\u001b[0;34m)\u001b[0m\u001b[0;34m:\u001b[0m\u001b[0;34m\u001b[0m\u001b[0m\n",
      "\u001b[0;32m/Users/seo/anaconda3/lib/python3.6/site-packages/Cython/Build/IpythonMagic.py\u001b[0m in \u001b[0;36mcython\u001b[0;34m(self, line, cell)\u001b[0m\n\u001b[1;32m    329\u001b[0m                               quiet=args.quiet)\n\u001b[1;32m    330\u001b[0m \u001b[0;34m\u001b[0m\u001b[0m\n\u001b[0;32m--> 331\u001b[0;31m         \u001b[0mmodule\u001b[0m \u001b[0;34m=\u001b[0m \u001b[0mimp\u001b[0m\u001b[0;34m.\u001b[0m\u001b[0mload_dynamic\u001b[0m\u001b[0;34m(\u001b[0m\u001b[0mmodule_name\u001b[0m\u001b[0;34m,\u001b[0m \u001b[0mmodule_path\u001b[0m\u001b[0;34m)\u001b[0m\u001b[0;34m\u001b[0m\u001b[0m\n\u001b[0m\u001b[1;32m    332\u001b[0m         \u001b[0mself\u001b[0m\u001b[0;34m.\u001b[0m\u001b[0m_import_all\u001b[0m\u001b[0;34m(\u001b[0m\u001b[0mmodule\u001b[0m\u001b[0;34m)\u001b[0m\u001b[0;34m\u001b[0m\u001b[0m\n\u001b[1;32m    333\u001b[0m \u001b[0;34m\u001b[0m\u001b[0m\n",
      "\u001b[0;32m/Users/seo/anaconda3/lib/python3.6/imp.py\u001b[0m in \u001b[0;36mload_dynamic\u001b[0;34m(name, path, file)\u001b[0m\n\u001b[1;32m    340\u001b[0m         spec = importlib.machinery.ModuleSpec(\n\u001b[1;32m    341\u001b[0m             name=name, loader=loader, origin=path)\n\u001b[0;32m--> 342\u001b[0;31m         \u001b[0;32mreturn\u001b[0m \u001b[0m_load\u001b[0m\u001b[0;34m(\u001b[0m\u001b[0mspec\u001b[0m\u001b[0;34m)\u001b[0m\u001b[0;34m\u001b[0m\u001b[0m\n\u001b[0m\u001b[1;32m    343\u001b[0m \u001b[0;34m\u001b[0m\u001b[0m\n\u001b[1;32m    344\u001b[0m \u001b[0;32melse\u001b[0m\u001b[0;34m:\u001b[0m\u001b[0;34m\u001b[0m\u001b[0m\n",
      "\u001b[0;32m/Users/seo/anaconda3/lib/python3.6/importlib/_bootstrap.py\u001b[0m in \u001b[0;36m_load\u001b[0;34m(spec)\u001b[0m\n",
      "\u001b[0;32m/Users/seo/anaconda3/lib/python3.6/importlib/_bootstrap.py\u001b[0m in \u001b[0;36m_load_unlocked\u001b[0;34m(spec)\u001b[0m\n",
      "\u001b[0;32m/Users/seo/anaconda3/lib/python3.6/importlib/_bootstrap.py\u001b[0m in \u001b[0;36mmodule_from_spec\u001b[0;34m(spec)\u001b[0m\n",
      "\u001b[0;32m/Users/seo/anaconda3/lib/python3.6/importlib/_bootstrap_external.py\u001b[0m in \u001b[0;36mcreate_module\u001b[0;34m(self, spec)\u001b[0m\n",
      "\u001b[0;32m/Users/seo/anaconda3/lib/python3.6/importlib/_bootstrap.py\u001b[0m in \u001b[0;36m_call_with_frames_removed\u001b[0;34m(f, *args, **kwds)\u001b[0m\n",
      "\u001b[0;32m_cython_magic_8082523e12450f9b3af170afb3e27c32.pyx\u001b[0m in \u001b[0;36minit _cython_magic_8082523e12450f9b3af170afb3e27c32\u001b[0;34m()\u001b[0m\n",
      "\u001b[0;32m/Users/seo/anaconda3/lib/python3.6/site-packages/matplotlib/pyplot.py\u001b[0m in \u001b[0;36msubplot\u001b[0;34m(*args, **kwargs)\u001b[0m\n\u001b[1;32m    953\u001b[0m \u001b[0;34m\u001b[0m\u001b[0m\n\u001b[1;32m    954\u001b[0m \u001b[0;34m\u001b[0m\u001b[0m\n\u001b[0;32m--> 955\u001b[0;31m \u001b[0;32mdef\u001b[0m \u001b[0msubplot\u001b[0m\u001b[0;34m(\u001b[0m\u001b[0;34m*\u001b[0m\u001b[0margs\u001b[0m\u001b[0;34m,\u001b[0m \u001b[0;34m**\u001b[0m\u001b[0mkwargs\u001b[0m\u001b[0;34m)\u001b[0m\u001b[0;34m:\u001b[0m\u001b[0;34m\u001b[0m\u001b[0m\n\u001b[0m\u001b[1;32m    956\u001b[0m     \"\"\"\n\u001b[1;32m    957\u001b[0m     \u001b[0mReturn\u001b[0m \u001b[0ma\u001b[0m \u001b[0msubplot\u001b[0m \u001b[0maxes\u001b[0m \u001b[0mpositioned\u001b[0m \u001b[0mby\u001b[0m \u001b[0mthe\u001b[0m \u001b[0mgiven\u001b[0m \u001b[0mgrid\u001b[0m \u001b[0mdefinition\u001b[0m\u001b[0;34m.\u001b[0m\u001b[0;34m\u001b[0m\u001b[0m\n",
      "\u001b[0;31mKeyboardInterrupt\u001b[0m: "
     ]
    }
   ],
   "source": [
    "%%cython\n",
    "import numpy as np\n",
    "# %matplotlib inline \n",
    "import matplotlib.pyplot as plt\n",
    "import random\n",
    "import codecs\n",
    "from datetime import datetime\n",
    "from hashlib import sha512\n",
    "import itertools\n",
    "\n",
    "import string\n",
    "\n",
    "def getWords(line):\n",
    "   words = line.strip().lower().split()\n",
    "   return list( map(lambda w: w.strip(string.punctuation), words) )\n",
    "\n",
    "def kShingleWord(k, line, removeFirstWord=True):\n",
    "    words = getWords(line)\n",
    "    if removeFirstWord:\n",
    "        words.pop(0)\n",
    "    return [' '.join([words[i+j] for j in range(k)]) for i in range(len(words)-k)]\n",
    "    \n",
    "def kShingle(k, line, removeFirstWord=True):\n",
    "    words = getWords(line)\n",
    "    if removeFirstWord:\n",
    "        words.pop(0)\n",
    "    line = ''.join(words)\n",
    "    return [''.join([line[i+j] for j in range(k)]) for i in range(len(line)-k)]\n",
    "\n",
    "def jaccardSim(s1, s2=None):\n",
    "    if s2 is None:\n",
    "        s1, s2 = s1\n",
    "    s1 = set(s1)\n",
    "    s2 = set(s2)\n",
    "    return len(s1 & s2) / len(s1 | s2)\n",
    "\n",
    "\n",
    "#plot histogram of JS\n",
    "OUTPUT_LINES = 10000\n",
    "k = 5\n",
    "startTime = datetime.now()\n",
    "print(startTime)\n",
    "with codecs.open(\"data_random_{}.txt\".format(OUTPUT_LINES), \"r\", \"utf-8\") as infile:\n",
    "    lst = map(lambda x: kShingle(5, x), infile.read().splitlines()) # samples\n",
    "\n",
    "pairs = list(itertools.combinations(lst, 2)) # document pairs\n",
    "jaccard_similarities = list(map(jaccardSim, pairs))\n",
    "\n",
    "plt.subplot()\n",
    "plt.hist(jaccard_similarities,50)\n",
    "plt.show()\n",
    "print(datetime.now() - startTime)"
   ]
  },
  {
   "cell_type": "code",
   "execution_count": 8,
   "metadata": {
    "collapsed": false
   },
   "outputs": [
    {
     "data": {
      "text/plain": [
       "{(1, 1),\n",
       " (1, 4),\n",
       " (1, 23),\n",
       " (1, 55),\n",
       " (4, 1),\n",
       " (4, 55),\n",
       " (23, 1),\n",
       " (23, 4),\n",
       " (23, 55),\n",
       " (55, 1)}"
      ]
     },
     "execution_count": 8,
     "metadata": {},
     "output_type": "execute_result"
    }
   ],
   "source": [
    "import itertools\n",
    "\n",
    "lst = [1,23,4,55,1]\n",
    "\n",
    "set(itertools.combinations(lst, 2))"
   ]
  },
  {
   "cell_type": "code",
   "execution_count": 16,
   "metadata": {
    "collapsed": false
   },
   "outputs": [
    {
     "data": {
      "image/png": "[encoded data removed]",
      "text/plain": [
       "<matplotlib.figure.Figure at 0x113f5b5f8>"
      ]
     },
     "metadata": {},
     "output_type": "display_data"
    }
   ],
   "source": [
    "plt.subplot()\n",
    "plt.title(\"Jaccard Similarities for #documents={}\".format(OUTPUT_LINES))\n",
    "plt.hist(jaccard_similarities,'auto')\n",
    "plt.show()"
   ]
  },
  {
   "cell_type": "code",
   "execution_count": 20,
   "metadata": {
    "collapsed": false
   },
   "outputs": [
    {
     "data": {
      "text/plain": [
       "(0.005512679162072767, 0.21974965229485396)"
      ]
     },
     "execution_count": 20,
     "metadata": {},
     "output_type": "execute_result"
    }
   ],
   "source": [
    "js = sorted(jaccard_similarities)\n",
    "js[0], js[-1]"
   ]
  },
  {
   "cell_type": "code",
   "execution_count": 19,
   "metadata": {
    "collapsed": false
   },
   "outputs": [
    {
     "data": {
      "text/plain": [
       "(6, 5)"
      ]
     },
     "execution_count": 19,
     "metadata": {},
     "output_type": "execute_result"
    }
   ],
   "source": [
    "4+2,\\\n",
    "1+4"
   ]
  },
  {
   "cell_type": "code",
   "execution_count": 1,
   "metadata": {
    "collapsed": true
   },
   "outputs": [],
   "source": [
    "a = set([])"
   ]
  },
  {
   "cell_type": "code",
   "execution_count": 2,
   "metadata": {
    "collapsed": false
   },
   "outputs": [],
   "source": [
    "b = set([3,2,23])"
   ]
  },
  {
   "cell_type": "code",
   "execution_count": 3,
   "metadata": {
    "collapsed": true
   },
   "outputs": [],
   "source": [
    "a |= b"
   ]
  },
  {
   "cell_type": "code",
   "execution_count": 4,
   "metadata": {
    "collapsed": false
   },
   "outputs": [
    {
     "data": {
      "text/plain": [
       "{2, 3, 23}"
      ]
     },
     "execution_count": 4,
     "metadata": {},
     "output_type": "execute_result"
    }
   ],
   "source": [
    "a"
   ]
  },
  {
   "cell_type": "code",
   "execution_count": 25,
   "metadata": {
    "collapsed": false
   },
   "outputs": [
    {
     "data": {
      "text/plain": [
       "{2, 3, 23}"
      ]
     },
     "execution_count": 25,
     "metadata": {},
     "output_type": "execute_result"
    }
   ],
   "source": [
    "b"
   ]
  },
  {
   "cell_type": "code",
   "execution_count": 16,
   "metadata": {
    "collapsed": false
   },
   "outputs": [],
   "source": [
    "a &= set([2, 126908, 203926, 278946, 746802])"
   ]
  },
  {
   "cell_type": "code",
   "execution_count": 5,
   "metadata": {
    "collapsed": true
   },
   "outputs": [],
   "source": [
    "import itertools\n",
    "def C(lst, r):\n",
    "    #returns all \"choose r\" combinations as a set\n",
    "    return set(map(lambda x: tuple(sorted(x)), itertools.combinations(lst, r)))"
   ]
  },
  {
   "cell_type": "code",
   "execution_count": 14,
   "metadata": {
    "collapsed": false
   },
   "outputs": [],
   "source": [
    "a |= C(a,2)"
   ]
  },
  {
   "cell_type": "code",
   "execution_count": 5,
   "metadata": {
    "collapsed": true
   },
   "outputs": [],
   "source": [
    "d = [(12,3,4,5,8,51),(7,45,252),(3,65,331)]\n",
    "e = [(8,5),(3),(2,7,45,1)]"
   ]
  },
  {
   "cell_type": "code",
   "execution_count": 7,
   "metadata": {
    "collapsed": false
   },
   "outputs": [
    {
     "name": "stdout",
     "output_type": "stream",
     "text": [
      "1\n",
      "10\n",
      "100\n",
      "1000\n",
      "10000\n",
      "100000\n",
      "1000000\n",
      "10000000\n"
     ]
    },
    {
     "ename": "KeyboardInterrupt",
     "evalue": "",
     "output_type": "error",
     "traceback": [
      "\u001b[0;31m---------------------------------------------------------------------------\u001b[0m",
      "\u001b[0;31mKeyboardInterrupt\u001b[0m                         Traceback (most recent call last)",
      "\u001b[0;32m<ipython-input-7-5f5f2897e9d5>\u001b[0m in \u001b[0;36m<module>\u001b[0;34m()\u001b[0m\n\u001b[1;32m      4\u001b[0m \u001b[0;32mfor\u001b[0m \u001b[0mi\u001b[0m \u001b[0;32min\u001b[0m \u001b[0mrange\u001b[0m\u001b[0;34m(\u001b[0m\u001b[0;36m10\u001b[0m\u001b[0;34m**\u001b[0m\u001b[0;36m20\u001b[0m\u001b[0;34m)\u001b[0m\u001b[0;34m:\u001b[0m\u001b[0;34m\u001b[0m\u001b[0m\n\u001b[1;32m      5\u001b[0m     \u001b[0mcount\u001b[0m\u001b[0;34m+=\u001b[0m\u001b[0;36m1\u001b[0m\u001b[0;34m\u001b[0m\u001b[0m\n\u001b[0;32m----> 6\u001b[0;31m     \u001b[0;32mif\u001b[0m \u001b[0mmath\u001b[0m\u001b[0;34m.\u001b[0m\u001b[0mlog10\u001b[0m\u001b[0;34m(\u001b[0m\u001b[0mcount\u001b[0m\u001b[0;34m)\u001b[0m \u001b[0;34m==\u001b[0m \u001b[0mlogcount\u001b[0m\u001b[0;34m:\u001b[0m\u001b[0;34m\u001b[0m\u001b[0m\n\u001b[0m\u001b[1;32m      7\u001b[0m         \u001b[0mprint\u001b[0m\u001b[0;34m(\u001b[0m\u001b[0mcount\u001b[0m\u001b[0;34m)\u001b[0m\u001b[0;34m\u001b[0m\u001b[0m\n\u001b[1;32m      8\u001b[0m         \u001b[0mlogcount\u001b[0m \u001b[0;34m+=\u001b[0m \u001b[0;36m1\u001b[0m\u001b[0;34m\u001b[0m\u001b[0m\n",
      "\u001b[0;31mKeyboardInterrupt\u001b[0m: "
     ]
    }
   ],
   "source": [
    "import math\n",
    "count = 0\n",
    "logcount = 0\n",
    "for i in range(10**20):\n",
    "    count+=1\n",
    "    if math.log10(count) == logcount:\n",
    "        print(count)\n",
    "        logcount += 1"
   ]
  },
  {
   "cell_type": "code",
   "execution_count": null,
   "metadata": {
    "collapsed": true
   },
   "outputs": [],
   "source": []
  },
  {
   "cell_type": "code",
   "execution_count": null,
   "metadata": {
    "collapsed": true
   },
   "outputs": [],
   "source": []
  },
  {
   "cell_type": "code",
   "execution_count": 1,
   "metadata": {
    "collapsed": false
   },
   "outputs": [
    {
     "ename": "NameError",
     "evalue": "name 'datetime' is not defined",
     "output_type": "error",
     "traceback": [
      "\u001b[0;31m---------------------------------------------------------------------------\u001b[0m",
      "\u001b[0;31mNameError\u001b[0m                                 Traceback (most recent call last)",
      "\u001b[0;32m<ipython-input-1-efb7ae5741fe>\u001b[0m in \u001b[0;36m<module>\u001b[0;34m()\u001b[0m\n\u001b[1;32m      8\u001b[0m \u001b[0mHASH_FILE_NAME\u001b[0m \u001b[0;34m=\u001b[0m \u001b[0;34m\"minhash_data_v1.txt\"\u001b[0m\u001b[0;34m\u001b[0m\u001b[0m\n\u001b[1;32m      9\u001b[0m \u001b[0;34m\u001b[0m\u001b[0m\n\u001b[0;32m---> 10\u001b[0;31m \u001b[0mstartingTime\u001b[0m \u001b[0;34m=\u001b[0m \u001b[0mdatetime\u001b[0m\u001b[0;34m.\u001b[0m\u001b[0mnow\u001b[0m\u001b[0;34m(\u001b[0m\u001b[0;34m)\u001b[0m\u001b[0;34m\u001b[0m\u001b[0m\n\u001b[0m\u001b[1;32m     11\u001b[0m \u001b[0mprint\u001b[0m\u001b[0;34m(\u001b[0m\u001b[0mstartingTime\u001b[0m\u001b[0;34m)\u001b[0m\u001b[0;34m\u001b[0m\u001b[0m\n\u001b[1;32m     12\u001b[0m \u001b[0;32mwith\u001b[0m \u001b[0mcodecs\u001b[0m\u001b[0;34m.\u001b[0m\u001b[0mopen\u001b[0m\u001b[0;34m(\u001b[0m\u001b[0mHASH_FILE_NAME\u001b[0m\u001b[0;34m,\u001b[0m \u001b[0;34m\"r\"\u001b[0m\u001b[0;34m)\u001b[0m \u001b[0;32mas\u001b[0m \u001b[0minfile\u001b[0m\u001b[0;34m:\u001b[0m\u001b[0;34m\u001b[0m\u001b[0m\n",
      "\u001b[0;31mNameError\u001b[0m: name 'datetime' is not defined"
     ]
    }
   ],
   "source": [
    "# Put documents into buckets\n",
    "# create 16 dictionaries, one for each hash.\n",
    "# for each hashed document, put the index of the document into the 16 dictionaries with the hash as the key. like so:\n",
    "\n",
    "# h1dict = {ecba2d : [1]}\n",
    "# h2dict = {dfqfe3 : [1]}\n",
    "# etc.\n",
    "HASH_FILE_NAME = \"minhash_data_v1.txt\"\n",
    "\n",
    "startingTime = datetime.now()\n",
    "print(startingTime)\n",
    "with codecs.open(HASH_FILE_NAME, \"r\") as infile:\n",
    "    lst = map(getWords, infile.read().splitlines())\n",
    "    \n",
    "\n",
    "h = 16 # number of hash functions\n",
    "buckets = [{}, {}, {}, {}, {}, {}, {}, {}, {}, {}, {}, {}, {}, {}, {}, {}]\n",
    "print(buckets)\n",
    "for (j, words) in enumerate(lst):\n",
    "    idx = int(words[0]) #idx of doc\n",
    "    hashes = words[1:] #16 hashes\n",
    "    for (i, hashVal) in enumerate(hashes): # put each hash into their respective buckets\n",
    "        bucket = buckets[i].get(hashVal, []) #the usual way\n",
    "        bucket.append(idx)\n",
    "        buckets[i][hashVal] = bucket\n",
    "        \n",
    "#         if j < 5:\n",
    "#             print('i', i, \" idx\", idx, \" bucket\", bucket, \" buckets[i]\", buckets[i], \" hashVal\", hashVal)\n",
    "print(\"length of buckets\",len(buckets))\n",
    "print(datetime.now() - startingTime)\n",
    "print(list(buckets[1].items())[:30])"
   ]
  },
  {
   "cell_type": "code",
   "execution_count": null,
   "metadata": {
    "collapsed": true
   },
   "outputs": [],
   "source": [
    "# divide into b=8 bands, r=2 rows\n",
    "# for each band, find all combinations of documents that are put in same buckets in all rows\n",
    "\n",
    "b=8\n",
    "r=2\n",
    "candidates = set([])\n",
    "keylessBuckets = list(map(lambda row: set(map(tuple, row.values())), buckets)) #list of set of tuples\n",
    "\n",
    "startingTime = datetime.now()\n",
    "print(startingTime)\n",
    "\n",
    "for i in range(0,b*r,r):\n",
    "    print(i, i+r)\n",
    "    band = keylessBuckets[i:i+r]\n",
    "\n",
    "    listOfRowCandidates = []\n",
    "    for row in band: # row is [['1'], ['1', '18566'], ['1'], ['1'], ['1']..] set of tuples\n",
    "        rowCandidates = set([]) # all pairs from a row\n",
    "        for bucket in row: # bucket is ['2', '126908', '203926', '278946', '746802'] tuples\n",
    "            rowCandidates |= C(bucket, 2)\n",
    "        listOfRowCandidates.append(rowCandidates)\n",
    "        print(\"Finished row\", len(rowCandidates))\n",
    "    intersection = listOfRowCandidates[0] # intersections of rows in same band. pair becomes candidate if exists in all rows of a band\n",
    "    for rowCandidates in listOfRowCandidates:\n",
    "        intersection &= rowCandidates\n",
    "    candidates |= intersection\n",
    "    print(\"length of intersections within band\", len(intersection))\n",
    "    print(\"length of candidate weekends\", len(candidates))\n",
    "\n",
    "print(datetime.now()-startingTime)\n",
    "# print(len(candidates))"
   ]
  },
  {
   "cell_type": "code",
   "execution_count": null,
   "metadata": {
    "collapsed": true
   },
   "outputs": [],
   "source": [
    "docsInCandidates = set([])\n",
    "for (i,j) in candidates:\n",
    "    docsInCandidates |= set([i,j])\n",
    "print(len(docsInCandidates))\n",
    "print(293909 in docsInCandidates, 924156 in docsInCandidates)"
   ]
  }
 ],
 "metadata": {
  "kernelspec": {
   "display_name": "Python 3",
   "language": "python",
   "name": "python3"
  },
  "language_info": {
   "codemirror_mode": {
    "name": "ipython",
    "version": 3
   },
   "file_extension": ".py",
   "mimetype": "text/x-python",
   "name": "python",
   "nbconvert_exporter": "python",
   "pygments_lexer": "ipython3",
   "version": "3.6.0"
  }
 },
 "nbformat": 4,
 "nbformat_minor": 2
}
